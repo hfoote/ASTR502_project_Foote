{
 "cells": [
  {
   "cell_type": "markdown",
   "id": "a5bd82ed",
   "metadata": {},
   "source": [
    "This notebook loads the data and picks out random subsets if a smaller dataset is desired. Then it trains and tests my implementation of the DeepShadows CNN with DES images, before performing a transfer learning test on HSC images. This code is heavily based on the DeepShadows.ipynb notebook in the repository: https://github.com/dtanoglidis/DeepShadows"
   ]
  },
  {
   "cell_type": "code",
   "execution_count": 30,
   "id": "247854f8",
   "metadata": {},
   "outputs": [],
   "source": [
    "# imports\n",
    "import tensorflow as tf\n",
    "from tensorflow import keras \n",
    "from tensorflow.keras import regularizers\n",
    "from tensorflow.keras import optimizers\n",
    "from keras import layers as lyr\n",
    "import numpy as np\n",
    "import matplotlib\n",
    "import matplotlib.pyplot as plt\n",
    "from sklearn.metrics import confusion_matrix\n",
    "import seaborn as sns\n",
    "%matplotlib inline"
   ]
  },
  {
   "cell_type": "markdown",
   "id": "db6b29bf",
   "metadata": {},
   "source": [
    "## Training"
   ]
  },
  {
   "cell_type": "code",
   "execution_count": 2,
   "id": "9ff35240",
   "metadata": {},
   "outputs": [],
   "source": [
    "# load the data\n",
    "\n",
    "np.random.seed(788739854) # set a seed to pick out consistent subsets of the full dataset when re-running\n",
    "\n",
    "batch_size = 64 # batch size, real DeepShadows uses 64\n",
    "\n",
    "# load the full datasets\n",
    "# examples\n",
    "X_tr = np.float64(np.load('Data/X_train.npy'))[0,:] # training\n",
    "X_val = np.float64(np.load('Data/X_val.npy'))[0,:] # validation\n",
    "X_test = np.float64(np.load('Data/X_test.npy'))[0,:] # test\n",
    "# labels\n",
    "y_tr = np.int64(np.load('Data/y_train.npy'))[0,:] # training\n",
    "y_val = np.int64(np.load('Data/y_val.npy'))[0,:] # validation\n",
    "y_test = np.int64(np.load('Data/y_test.npy'))[0,:] # test\n",
    "\n",
    "# if we want to use a subset of the data rather than the whole thing, pick out the subset randomly\n",
    "# [train, validation, test] list with the desired number of batches in each set\n",
    "num_batches = np.array([468, 77, 77]) # full dataset\n",
    "\n",
    "# draw random samples of indices for each set of the desired lengths\n",
    "tr_idx = np.random.choice(np.arange(len(y_tr)), size=num_batches[0]*batch_size, replace=False)\n",
    "val_idx = np.random.choice(np.arange(len(y_val)), size=num_batches[1]*batch_size, replace=False)\n",
    "test_idx = np.random.choice(np.arange(len(y_test)), size=num_batches[2]*batch_size, replace=False)\n",
    "\n",
    "# then pick these out\n",
    "X_tr = X_tr[tr_idx]\n",
    "y_tr = y_tr[tr_idx]\n",
    "\n",
    "X_val = X_val[val_idx]\n",
    "y_val = y_val[val_idx]\n",
    "\n",
    "X_test = X_test[test_idx]\n",
    "y_test = y_test[test_idx]"
   ]
  },
  {
   "cell_type": "code",
   "execution_count": 3,
   "id": "baf000cf",
   "metadata": {},
   "outputs": [],
   "source": [
    "# Define the DeepShadows CNN\n",
    "def DeepShadows():\n",
    "    # architecture\n",
    "    net = keras.models.Sequential([\n",
    "        # input layer is the same shape as an image, with the channels last\n",
    "        lyr.InputLayer((64,64,3)),\n",
    "        # Each of the first three blocks contains a convolutional layer with relu activation and weight decay\n",
    "        lyr.Conv2D(filters=16, kernel_size=3, padding='same', activation='relu', kernel_regularizer=regularizers.l2(0.13)),\n",
    "        # followed by batch normalization\n",
    "        lyr.BatchNormalization(),\n",
    "        # and max pooling\n",
    "        lyr.MaxPool2D(pool_size=2, strides=None, padding='valid'),\n",
    "        # finally, apply dropout\n",
    "        lyr.Dropout(rate=0.4),\n",
    "        # repeat this block twice more, while doubling the number of channels each time\n",
    "        lyr.Conv2D(filters=32, kernel_size=3, padding='same', activation='relu', kernel_regularizer=regularizers.l2(0.13)),\n",
    "        lyr.BatchNormalization(),\n",
    "        lyr.MaxPool2D(pool_size=2, strides=None, padding='valid'),\n",
    "        lyr.Dropout(rate=0.4),\n",
    "        # last block, double channels again\n",
    "        lyr.Conv2D(filters=64, kernel_size=3, padding='same', activation='relu', kernel_regularizer=regularizers.l2(0.13)),\n",
    "        lyr.BatchNormalization(),\n",
    "        lyr.MaxPool2D(pool_size=2, strides=None, padding='valid'),\n",
    "        lyr.Dropout(rate=0.4),\n",
    "        # flatten the output so it can be put into the dense layers\n",
    "        lyr.Flatten(),\n",
    "        # fully connected layers\n",
    "        lyr.Dense(units=1024, activation='relu',kernel_regularizer=regularizers.l2(0.12)), # lower the weight decay parameter a bit\n",
    "        # last layer uses sigmoid activation to output a single probability that the image contains a LSBG\n",
    "        lyr.Dense(units=1, activation='sigmoid')\n",
    "    ])\n",
    "    \n",
    "    # compile the network for training. \n",
    "    # DeepShadows uses Adadelta with a base learning rate of 0.1,\n",
    "    # cross-entropy loss, \n",
    "    # and we want the network to be evaluated by its accuracy\n",
    "    net.compile(optimizer=optimizers.Adadelta(0.1), loss='binary_crossentropy', metrics=['accuracy'])\n",
    "    \n",
    "    return net"
   ]
  },
  {
   "cell_type": "code",
   "execution_count": 4,
   "id": "8699edd7",
   "metadata": {
    "scrolled": true
   },
   "outputs": [
    {
     "name": "stdout",
     "output_type": "stream",
     "text": [
      "Epoch 1/100\n",
      "468/468 [==============================] - 64s 135ms/step - loss: 53.2198 - accuracy: 0.8273 - val_loss: 5.7890 - val_accuracy: 0.8119\n",
      "Epoch 2/100\n",
      "468/468 [==============================] - 64s 137ms/step - loss: 2.2347 - accuracy: 0.8765 - val_loss: 1.0121 - val_accuracy: 0.8553\n",
      "Epoch 3/100\n",
      "468/468 [==============================] - 62s 132ms/step - loss: 0.6619 - accuracy: 0.8929 - val_loss: 0.5240 - val_accuracy: 0.8933\n",
      "Epoch 4/100\n",
      "468/468 [==============================] - 59s 127ms/step - loss: 0.4575 - accuracy: 0.9018 - val_loss: 0.4324 - val_accuracy: 0.8925\n",
      "Epoch 5/100\n",
      "468/468 [==============================] - 60s 128ms/step - loss: 0.3955 - accuracy: 0.9055 - val_loss: 0.3660 - val_accuracy: 0.9115\n",
      "Epoch 6/100\n",
      "468/468 [==============================] - 62s 133ms/step - loss: 0.3617 - accuracy: 0.9074 - val_loss: 0.3379 - val_accuracy: 0.9109\n",
      "Epoch 7/100\n",
      "468/468 [==============================] - 63s 135ms/step - loss: 0.3402 - accuracy: 0.9073 - val_loss: 0.3136 - val_accuracy: 0.9166\n",
      "Epoch 8/100\n",
      "468/468 [==============================] - 64s 136ms/step - loss: 0.3293 - accuracy: 0.9086 - val_loss: 0.3111 - val_accuracy: 0.9119\n",
      "Epoch 9/100\n",
      "468/468 [==============================] - 64s 137ms/step - loss: 0.3187 - accuracy: 0.9084 - val_loss: 0.2919 - val_accuracy: 0.9200\n",
      "Epoch 10/100\n",
      "467/468 [============================>.] - ETA: 0s - loss: 0.3113 - accuracy: 0.9093\n",
      "Epoch 10: saving model to training_checkpoints/checkpoint\n",
      "468/468 [==============================] - 65s 138ms/step - loss: 0.3113 - accuracy: 0.9093 - val_loss: 0.2859 - val_accuracy: 0.9184\n",
      "Epoch 11/100\n",
      "468/468 [==============================] - 64s 137ms/step - loss: 0.3073 - accuracy: 0.9104 - val_loss: 0.2852 - val_accuracy: 0.9170\n",
      "Epoch 12/100\n",
      "468/468 [==============================] - 65s 138ms/step - loss: 0.3007 - accuracy: 0.9099 - val_loss: 0.2780 - val_accuracy: 0.9205\n",
      "Epoch 13/100\n",
      "468/468 [==============================] - 65s 139ms/step - loss: 0.2960 - accuracy: 0.9120 - val_loss: 0.2800 - val_accuracy: 0.9138\n",
      "Epoch 14/100\n",
      "468/468 [==============================] - 65s 138ms/step - loss: 0.2930 - accuracy: 0.9115 - val_loss: 0.2676 - val_accuracy: 0.9209\n",
      "Epoch 15/100\n",
      "468/468 [==============================] - 65s 140ms/step - loss: 0.2907 - accuracy: 0.9113 - val_loss: 0.2831 - val_accuracy: 0.9158\n",
      "Epoch 16/100\n",
      "468/468 [==============================] - 65s 139ms/step - loss: 0.2880 - accuracy: 0.9113 - val_loss: 0.2773 - val_accuracy: 0.9152\n",
      "Epoch 17/100\n",
      "468/468 [==============================] - 64s 137ms/step - loss: 0.2847 - accuracy: 0.9127 - val_loss: 0.2709 - val_accuracy: 0.9160\n",
      "Epoch 18/100\n",
      "468/468 [==============================] - 63s 135ms/step - loss: 0.2860 - accuracy: 0.9117 - val_loss: 0.2690 - val_accuracy: 0.9154\n",
      "Epoch 19/100\n",
      "468/468 [==============================] - 62s 132ms/step - loss: 0.2815 - accuracy: 0.9135 - val_loss: 0.2588 - val_accuracy: 0.9217\n",
      "Epoch 20/100\n",
      "467/468 [============================>.] - ETA: 0s - loss: 0.2818 - accuracy: 0.9126\n",
      "Epoch 20: saving model to training_checkpoints/checkpoint\n",
      "468/468 [==============================] - 61s 131ms/step - loss: 0.2818 - accuracy: 0.9124 - val_loss: 0.2672 - val_accuracy: 0.9178\n",
      "Epoch 21/100\n",
      "468/468 [==============================] - 61s 130ms/step - loss: 0.2788 - accuracy: 0.9124 - val_loss: 0.2658 - val_accuracy: 0.9184\n",
      "Epoch 22/100\n",
      "468/468 [==============================] - 61s 130ms/step - loss: 0.2767 - accuracy: 0.9135 - val_loss: 0.2615 - val_accuracy: 0.9190\n",
      "Epoch 23/100\n",
      "468/468 [==============================] - 60s 128ms/step - loss: 0.2766 - accuracy: 0.9126 - val_loss: 0.2620 - val_accuracy: 0.9176\n",
      "Epoch 24/100\n",
      "468/468 [==============================] - 61s 129ms/step - loss: 0.2757 - accuracy: 0.9124 - val_loss: 0.2645 - val_accuracy: 0.9184\n",
      "Epoch 25/100\n",
      "468/468 [==============================] - 61s 130ms/step - loss: 0.2736 - accuracy: 0.9123 - val_loss: 0.2560 - val_accuracy: 0.9190\n",
      "Epoch 26/100\n",
      "468/468 [==============================] - 60s 129ms/step - loss: 0.2748 - accuracy: 0.9140 - val_loss: 0.2579 - val_accuracy: 0.9190\n",
      "Epoch 27/100\n",
      "468/468 [==============================] - 60s 129ms/step - loss: 0.2725 - accuracy: 0.9137 - val_loss: 0.2530 - val_accuracy: 0.9215\n",
      "Epoch 28/100\n",
      "468/468 [==============================] - 62s 132ms/step - loss: 0.2705 - accuracy: 0.9128 - val_loss: 0.2610 - val_accuracy: 0.9160\n",
      "Epoch 29/100\n",
      "468/468 [==============================] - 65s 138ms/step - loss: 0.2711 - accuracy: 0.9135 - val_loss: 0.2405 - val_accuracy: 0.9251\n",
      "Epoch 30/100\n",
      "467/468 [============================>.] - ETA: 0s - loss: 0.2690 - accuracy: 0.9143\n",
      "Epoch 30: saving model to training_checkpoints/checkpoint\n",
      "468/468 [==============================] - 63s 134ms/step - loss: 0.2689 - accuracy: 0.9144 - val_loss: 0.2472 - val_accuracy: 0.9231\n",
      "Epoch 31/100\n",
      "468/468 [==============================] - 62s 134ms/step - loss: 0.2688 - accuracy: 0.9140 - val_loss: 0.2561 - val_accuracy: 0.9154\n",
      "Epoch 32/100\n",
      "468/468 [==============================] - 61s 131ms/step - loss: 0.2697 - accuracy: 0.9134 - val_loss: 0.2447 - val_accuracy: 0.9231\n",
      "Epoch 33/100\n",
      "468/468 [==============================] - 64s 137ms/step - loss: 0.2676 - accuracy: 0.9138 - val_loss: 0.2645 - val_accuracy: 0.9156\n",
      "Epoch 34/100\n",
      "468/468 [==============================] - 65s 140ms/step - loss: 0.2682 - accuracy: 0.9141 - val_loss: 0.2458 - val_accuracy: 0.9205\n",
      "Epoch 35/100\n",
      "468/468 [==============================] - 65s 139ms/step - loss: 0.2689 - accuracy: 0.9134 - val_loss: 0.2732 - val_accuracy: 0.9044\n",
      "Epoch 36/100\n",
      "468/468 [==============================] - 65s 138ms/step - loss: 0.2666 - accuracy: 0.9148 - val_loss: 0.2550 - val_accuracy: 0.9162\n",
      "Epoch 37/100\n",
      "468/468 [==============================] - 65s 139ms/step - loss: 0.2676 - accuracy: 0.9138 - val_loss: 0.2462 - val_accuracy: 0.9200\n",
      "Epoch 38/100\n",
      "468/468 [==============================] - 65s 139ms/step - loss: 0.2654 - accuracy: 0.9153 - val_loss: 0.2469 - val_accuracy: 0.9215\n",
      "Epoch 39/100\n",
      "468/468 [==============================] - 66s 140ms/step - loss: 0.2647 - accuracy: 0.9129 - val_loss: 0.2570 - val_accuracy: 0.9156\n",
      "Epoch 40/100\n",
      "467/468 [============================>.] - ETA: 0s - loss: 0.2670 - accuracy: 0.9136\n",
      "Epoch 40: saving model to training_checkpoints/checkpoint\n",
      "468/468 [==============================] - 65s 140ms/step - loss: 0.2668 - accuracy: 0.9137 - val_loss: 0.2550 - val_accuracy: 0.9176\n",
      "Epoch 41/100\n",
      "468/468 [==============================] - 65s 140ms/step - loss: 0.2630 - accuracy: 0.9155 - val_loss: 0.2560 - val_accuracy: 0.9148\n",
      "Epoch 42/100\n",
      "468/468 [==============================] - 65s 139ms/step - loss: 0.2644 - accuracy: 0.9132 - val_loss: 0.2677 - val_accuracy: 0.9140\n",
      "Epoch 43/100\n",
      "468/468 [==============================] - 64s 137ms/step - loss: 0.2638 - accuracy: 0.9140 - val_loss: 0.2426 - val_accuracy: 0.9221\n",
      "Epoch 44/100\n",
      "468/468 [==============================] - 64s 138ms/step - loss: 0.2628 - accuracy: 0.9136 - val_loss: 0.2536 - val_accuracy: 0.9152\n",
      "Epoch 45/100\n",
      "468/468 [==============================] - 65s 138ms/step - loss: 0.2620 - accuracy: 0.9151 - val_loss: 0.2497 - val_accuracy: 0.9152\n",
      "Epoch 46/100\n",
      "468/468 [==============================] - 65s 139ms/step - loss: 0.2622 - accuracy: 0.9144 - val_loss: 0.2550 - val_accuracy: 0.9154\n",
      "Epoch 47/100\n",
      "468/468 [==============================] - 65s 138ms/step - loss: 0.2629 - accuracy: 0.9155 - val_loss: 0.2373 - val_accuracy: 0.9253\n",
      "Epoch 48/100\n",
      "468/468 [==============================] - 65s 139ms/step - loss: 0.2606 - accuracy: 0.9150 - val_loss: 0.2415 - val_accuracy: 0.9209\n",
      "Epoch 49/100\n",
      "468/468 [==============================] - 65s 139ms/step - loss: 0.2630 - accuracy: 0.9134 - val_loss: 0.2361 - val_accuracy: 0.9251\n",
      "Epoch 50/100\n",
      "467/468 [============================>.] - ETA: 0s - loss: 0.2597 - accuracy: 0.9154\n",
      "Epoch 50: saving model to training_checkpoints/checkpoint\n",
      "468/468 [==============================] - 65s 139ms/step - loss: 0.2600 - accuracy: 0.9152 - val_loss: 0.2446 - val_accuracy: 0.9174\n",
      "Epoch 51/100\n",
      "468/468 [==============================] - 65s 139ms/step - loss: 0.2621 - accuracy: 0.9139 - val_loss: 0.2990 - val_accuracy: 0.9034\n"
     ]
    },
    {
     "name": "stdout",
     "output_type": "stream",
     "text": [
      "Epoch 52/100\n",
      "468/468 [==============================] - 65s 139ms/step - loss: 0.2608 - accuracy: 0.9156 - val_loss: 0.2502 - val_accuracy: 0.9156\n",
      "Epoch 53/100\n",
      "468/468 [==============================] - 65s 140ms/step - loss: 0.2579 - accuracy: 0.9150 - val_loss: 0.2498 - val_accuracy: 0.9182\n",
      "Epoch 54/100\n",
      "468/468 [==============================] - 65s 139ms/step - loss: 0.2598 - accuracy: 0.9148 - val_loss: 0.2702 - val_accuracy: 0.9099\n",
      "Epoch 55/100\n",
      "468/468 [==============================] - 65s 139ms/step - loss: 0.2597 - accuracy: 0.9140 - val_loss: 0.2390 - val_accuracy: 0.9225\n",
      "Epoch 56/100\n",
      "468/468 [==============================] - 65s 139ms/step - loss: 0.2605 - accuracy: 0.9148 - val_loss: 0.2662 - val_accuracy: 0.9105\n",
      "Epoch 57/100\n",
      "468/468 [==============================] - 65s 140ms/step - loss: 0.2586 - accuracy: 0.9156 - val_loss: 0.2527 - val_accuracy: 0.9166\n",
      "Epoch 58/100\n",
      "468/468 [==============================] - 65s 139ms/step - loss: 0.2590 - accuracy: 0.9153 - val_loss: 0.2495 - val_accuracy: 0.9196\n",
      "Epoch 59/100\n",
      "468/468 [==============================] - 65s 140ms/step - loss: 0.2598 - accuracy: 0.9150 - val_loss: 0.2537 - val_accuracy: 0.9142\n",
      "Epoch 60/100\n",
      "467/468 [============================>.] - ETA: 0s - loss: 0.2584 - accuracy: 0.9173\n",
      "Epoch 60: saving model to training_checkpoints/checkpoint\n",
      "468/468 [==============================] - 65s 140ms/step - loss: 0.2582 - accuracy: 0.9174 - val_loss: 0.2382 - val_accuracy: 0.9251\n",
      "Epoch 61/100\n",
      "468/468 [==============================] - 65s 139ms/step - loss: 0.2583 - accuracy: 0.9151 - val_loss: 0.2386 - val_accuracy: 0.9217\n",
      "Epoch 62/100\n",
      "468/468 [==============================] - 66s 140ms/step - loss: 0.2572 - accuracy: 0.9151 - val_loss: 0.2391 - val_accuracy: 0.9221\n",
      "Epoch 63/100\n",
      "468/468 [==============================] - 65s 140ms/step - loss: 0.2588 - accuracy: 0.9156 - val_loss: 0.2308 - val_accuracy: 0.9241\n",
      "Epoch 64/100\n",
      "468/468 [==============================] - 65s 140ms/step - loss: 0.2565 - accuracy: 0.9150 - val_loss: 0.2572 - val_accuracy: 0.9184\n",
      "Epoch 65/100\n",
      "468/468 [==============================] - 65s 140ms/step - loss: 0.2581 - accuracy: 0.9144 - val_loss: 0.2695 - val_accuracy: 0.9085\n",
      "Epoch 66/100\n",
      "468/468 [==============================] - 66s 140ms/step - loss: 0.2581 - accuracy: 0.9138 - val_loss: 0.2405 - val_accuracy: 0.9229\n",
      "Epoch 67/100\n",
      "468/468 [==============================] - 65s 140ms/step - loss: 0.2579 - accuracy: 0.9151 - val_loss: 0.2471 - val_accuracy: 0.9249\n",
      "Epoch 68/100\n",
      "468/468 [==============================] - 65s 140ms/step - loss: 0.2584 - accuracy: 0.9152 - val_loss: 0.2422 - val_accuracy: 0.9178\n",
      "Epoch 69/100\n",
      "468/468 [==============================] - 65s 140ms/step - loss: 0.2553 - accuracy: 0.9157 - val_loss: 0.2392 - val_accuracy: 0.9207\n",
      "Epoch 70/100\n",
      "467/468 [============================>.] - ETA: 0s - loss: 0.2558 - accuracy: 0.9168\n",
      "Epoch 70: saving model to training_checkpoints/checkpoint\n",
      "468/468 [==============================] - 65s 140ms/step - loss: 0.2559 - accuracy: 0.9167 - val_loss: 0.2468 - val_accuracy: 0.9245\n",
      "Epoch 71/100\n",
      "468/468 [==============================] - 66s 141ms/step - loss: 0.2572 - accuracy: 0.9155 - val_loss: 0.2482 - val_accuracy: 0.9144\n",
      "Epoch 72/100\n",
      "468/468 [==============================] - 66s 140ms/step - loss: 0.2566 - accuracy: 0.9157 - val_loss: 0.2418 - val_accuracy: 0.9198\n",
      "Epoch 73/100\n",
      "468/468 [==============================] - 66s 140ms/step - loss: 0.2570 - accuracy: 0.9155 - val_loss: 0.2387 - val_accuracy: 0.9188\n",
      "Epoch 74/100\n",
      "468/468 [==============================] - 66s 141ms/step - loss: 0.2560 - accuracy: 0.9164 - val_loss: 0.2452 - val_accuracy: 0.9136\n",
      "Epoch 75/100\n",
      "468/468 [==============================] - 66s 140ms/step - loss: 0.2563 - accuracy: 0.9147 - val_loss: 0.2454 - val_accuracy: 0.9200\n",
      "Epoch 76/100\n",
      "468/468 [==============================] - 66s 141ms/step - loss: 0.2560 - accuracy: 0.9154 - val_loss: 0.2354 - val_accuracy: 0.9249\n",
      "Epoch 77/100\n",
      "468/468 [==============================] - 66s 140ms/step - loss: 0.2564 - accuracy: 0.9169 - val_loss: 0.3662 - val_accuracy: 0.8695\n",
      "Epoch 78/100\n",
      "468/468 [==============================] - 66s 140ms/step - loss: 0.2580 - accuracy: 0.9148 - val_loss: 0.2448 - val_accuracy: 0.9170\n",
      "Epoch 79/100\n",
      "468/468 [==============================] - 66s 140ms/step - loss: 0.2563 - accuracy: 0.9161 - val_loss: 0.2413 - val_accuracy: 0.9225\n",
      "Epoch 80/100\n",
      "467/468 [============================>.] - ETA: 0s - loss: 0.2558 - accuracy: 0.9151\n",
      "Epoch 80: saving model to training_checkpoints/checkpoint\n",
      "468/468 [==============================] - 66s 141ms/step - loss: 0.2559 - accuracy: 0.9150 - val_loss: 0.2518 - val_accuracy: 0.9184\n",
      "Epoch 81/100\n",
      "468/468 [==============================] - 66s 141ms/step - loss: 0.2538 - accuracy: 0.9161 - val_loss: 0.2535 - val_accuracy: 0.9190\n",
      "Epoch 82/100\n",
      "468/468 [==============================] - 66s 140ms/step - loss: 0.2548 - accuracy: 0.9147 - val_loss: 0.2366 - val_accuracy: 0.9200\n",
      "Epoch 83/100\n",
      "468/468 [==============================] - 66s 141ms/step - loss: 0.2541 - accuracy: 0.9153 - val_loss: 0.2446 - val_accuracy: 0.9174\n",
      "Epoch 84/100\n",
      "468/468 [==============================] - 66s 142ms/step - loss: 0.2555 - accuracy: 0.9155 - val_loss: 0.2450 - val_accuracy: 0.9172\n",
      "Epoch 85/100\n",
      "468/468 [==============================] - 66s 142ms/step - loss: 0.2566 - accuracy: 0.9150 - val_loss: 0.2469 - val_accuracy: 0.9160\n",
      "Epoch 86/100\n",
      "468/468 [==============================] - 66s 142ms/step - loss: 0.2553 - accuracy: 0.9150 - val_loss: 0.2376 - val_accuracy: 0.9249\n",
      "Epoch 87/100\n",
      "468/468 [==============================] - 67s 142ms/step - loss: 0.2558 - accuracy: 0.9155 - val_loss: 0.2381 - val_accuracy: 0.9229\n",
      "Epoch 88/100\n",
      "468/468 [==============================] - 67s 142ms/step - loss: 0.2562 - accuracy: 0.9146 - val_loss: 0.2626 - val_accuracy: 0.9166\n",
      "Epoch 89/100\n",
      "468/468 [==============================] - 66s 141ms/step - loss: 0.2542 - accuracy: 0.9174 - val_loss: 0.2493 - val_accuracy: 0.9211\n",
      "Epoch 90/100\n",
      "467/468 [============================>.] - ETA: 0s - loss: 0.2539 - accuracy: 0.9147\n",
      "Epoch 90: saving model to training_checkpoints/checkpoint\n",
      "468/468 [==============================] - 66s 141ms/step - loss: 0.2537 - accuracy: 0.9149 - val_loss: 0.2462 - val_accuracy: 0.9150\n",
      "Epoch 91/100\n",
      "468/468 [==============================] - 66s 140ms/step - loss: 0.2512 - accuracy: 0.9168 - val_loss: 0.2421 - val_accuracy: 0.9205\n",
      "Epoch 92/100\n",
      "468/468 [==============================] - 65s 140ms/step - loss: 0.2539 - accuracy: 0.9156 - val_loss: 0.2491 - val_accuracy: 0.9154\n",
      "Epoch 93/100\n",
      "468/468 [==============================] - 65s 140ms/step - loss: 0.2547 - accuracy: 0.9164 - val_loss: 0.2498 - val_accuracy: 0.9174\n",
      "Epoch 94/100\n",
      "468/468 [==============================] - 65s 140ms/step - loss: 0.2549 - accuracy: 0.9134 - val_loss: 0.2452 - val_accuracy: 0.9192\n",
      "Epoch 95/100\n",
      "468/468 [==============================] - 66s 141ms/step - loss: 0.2517 - accuracy: 0.9183 - val_loss: 0.2311 - val_accuracy: 0.9227\n",
      "Epoch 96/100\n",
      "468/468 [==============================] - 65s 140ms/step - loss: 0.2538 - accuracy: 0.9157 - val_loss: 0.2422 - val_accuracy: 0.9168\n",
      "Epoch 97/100\n",
      "468/468 [==============================] - 66s 141ms/step - loss: 0.2513 - accuracy: 0.9177 - val_loss: 0.2461 - val_accuracy: 0.9168\n",
      "Epoch 98/100\n",
      "468/468 [==============================] - 66s 140ms/step - loss: 0.2525 - accuracy: 0.9157 - val_loss: 0.2607 - val_accuracy: 0.9123\n",
      "Epoch 99/100\n",
      "468/468 [==============================] - 66s 140ms/step - loss: 0.2511 - accuracy: 0.9174 - val_loss: 0.2468 - val_accuracy: 0.9164\n",
      "Epoch 100/100\n",
      "467/468 [============================>.] - ETA: 0s - loss: 0.2537 - accuracy: 0.9152\n",
      "Epoch 100: saving model to training_checkpoints/checkpoint\n",
      "468/468 [==============================] - 66s 142ms/step - loss: 0.2535 - accuracy: 0.9152 - val_loss: 0.2454 - val_accuracy: 0.9174\n"
     ]
    },
    {
     "data": {
      "text/plain": [
       "<keras.callbacks.History at 0x7fb0d7d3bf10>"
      ]
     },
     "execution_count": 4,
     "metadata": {},
     "output_type": "execute_result"
    }
   ],
   "source": [
    "# training\n",
    "n_epochs = 100 # number of epochs\n",
    "\n",
    "# callback function to save a checkpoint every 10 epochs during training\n",
    "checkpt = keras.callbacks.ModelCheckpoint(filepath='training_checkpoints/checkpoint', verbose=1, \n",
    "                                          save_weights_only=True, save_freq=int(10*num_batches[0]))\n",
    "\n",
    "# create and train the network\n",
    "net = DeepShadows()\n",
    "net.fit(x=X_tr, y=y_tr, epochs=n_epochs, batch_size=batch_size, shuffle=True, validation_data=(X_val,y_val), \n",
    "        callbacks=[checkpt])"
   ]
  },
  {
   "cell_type": "code",
   "execution_count": 18,
   "id": "732b8fee",
   "metadata": {},
   "outputs": [
    {
     "data": {
      "image/png": "[encoded data removed]",
      "text/plain": [
       "<Figure size 576x432 with 1 Axes>"
      ]
     },
     "metadata": {
      "needs_background": "light"
     },
     "output_type": "display_data"
    }
   ],
   "source": [
    "# plot the results\n",
    "plt.rcParams.update({'font.size': 15})\n",
    "\n",
    "t = np.arange(n_epochs) # array for epoch number\n",
    "\n",
    "# get performance metrics\n",
    "performance_data = net.history.history\n",
    "\n",
    "tr_acc = performance_data['accuracy']\n",
    "val_acc = performance_data['val_accuracy']\n",
    "tr_loss = performance_data['loss']\n",
    "val_loss = performance_data['val_loss']\n",
    "\n",
    "# save these so we can mess with the plot without retraining\n",
    "np.save('plot_data/tr_acc', tr_acc)\n",
    "np.save('plot_data/val_acc', val_acc)\n",
    "np.save('plot_data/tr_loss', tr_loss)\n",
    "np.save('plot_data/val_loss', val_loss)\n",
    "\n",
    "# and plot everything up\n",
    "fig, ax = plt.subplots(figsize=(8,6))\n",
    "ax.plot(t, tr_acc, c='r', label='Train Accuracy')\n",
    "ax.plot(t, val_acc, c='orange', linestyle='dashed', label='Validation Accuracy')\n",
    "ax.plot(t, tr_loss, c='b', label='Train Loss')\n",
    "ax.plot(t, val_loss, c='cyan', linestyle='dashed', label='Validation Loss')\n",
    "\n",
    "ax.set(xlabel='Epoch', ylabel='Accuracy / Loss', ylim=(0,1))\n",
    "\n",
    "ax.legend(bbox_to_anchor=(0.5,0.8))\n",
    "plt.show()"
   ]
  },
  {
   "cell_type": "code",
   "execution_count": 19,
   "id": "2a1b5b67",
   "metadata": {},
   "outputs": [
    {
     "name": "stdout",
     "output_type": "stream",
     "text": [
      "INFO:tensorflow:Assets written to: Trained_networks/DeepShadows_tf/assets\n"
     ]
    }
   ],
   "source": [
    "# save the trained network\n",
    "net.save('Trained_networks/DeepShadows_tf')"
   ]
  },
  {
   "cell_type": "markdown",
   "id": "c0f988d9",
   "metadata": {},
   "source": [
    "## Testing"
   ]
  },
  {
   "cell_type": "code",
   "execution_count": 46,
   "id": "220f5f79",
   "metadata": {},
   "outputs": [
    {
     "name": "stdout",
     "output_type": "stream",
     "text": [
      "154/154 - 4s - loss: 0.2598 - accuracy: 0.9117 - 4s/epoch - 27ms/step\n",
      "Test Accuracy: 0.9117289185523987\n"
     ]
    }
   ],
   "source": [
    "# Testing\n",
    "\n",
    "# load the saved trained network\n",
    "net = keras.models.load_model('Trained_networks/DeepShadows_tf')\n",
    "\n",
    "# evaluate the network's accuracy on the test set\n",
    "test_loss, test_acc = net.evaluate(X_test, y_test, verbose=2)\n",
    "print('Test Accuracy: {}'.format(test_acc))"
   ]
  },
  {
   "cell_type": "code",
   "execution_count": 47,
   "id": "0a411c8c",
   "metadata": {},
   "outputs": [
    {
     "name": "stdout",
     "output_type": "stream",
     "text": [
      "True positives:  2338\n",
      "True negatives:  2154\n",
      "False positives:  312\n",
      "False negatives:  124\n"
     ]
    },
    {
     "data": {
      "image/png": "[encoded data removed]",
      "text/plain": [
       "<Figure size 432x432 with 2 Axes>"
      ]
     },
     "metadata": {
      "needs_background": "light"
     },
     "output_type": "display_data"
    }
   ],
   "source": [
    "# compute the confusion matrix for the test set\n",
    "thres = 0.5 # threshold probability for a LSBG prediction\n",
    "\n",
    "y_prob = net.predict(X_test) # get predicted probabilities\n",
    "# and figure out which indices are over the threshold probability\n",
    "LSBG_idx = np.argwhere(y_prob > thres)\n",
    "\n",
    "# now make an array of the predicted classes based on the threshold\n",
    "y_pred = np.zeros_like(y_prob, dtype=int)\n",
    "y_pred[LSBG_idx] = 1\n",
    "\n",
    "# compute the confusion matrix\n",
    "conf_mat_DES = confusion_matrix(y_test, y_pred) # rows are true, columns are predicted\n",
    "# and print out the entries nicely\n",
    "print(\"True positives:  {:4}\".format(conf_mat_DES[1,1]))\n",
    "print(\"True negatives:  {:4}\".format(conf_mat_DES[0,0]))\n",
    "print(\"False positives: {:4}\".format(conf_mat_DES[0,1]))\n",
    "print(\"False negatives: {:4}\".format(conf_mat_DES[1,0]))\n",
    "\n",
    "# function for plotting the confusion matrix\n",
    "def plot_cm(mat):\n",
    "    '''Takes the confusion matrix as an argument and plots it nicely'''\n",
    "    plt.rcParams.update({'font.size': 15})\n",
    "    plt.figure(figsize=(6,6))\n",
    "    ax = sns.heatmap(mat, annot=True, fmt='d', square=True, xticklabels=['Artifact', 'LSBG'], \n",
    "                     yticklabels=['Artifact', 'LSBG'], cmap='Blues')\n",
    "    ax.set(xlabel='Predicted Label', ylabel='True Label')\n",
    "    plt.show()\n",
    "    \n",
    "# plot the confusion matrix\n",
    "plot_cm(conf_mat_DES)"
   ]
  },
  {
   "cell_type": "markdown",
   "id": "61b70b3c",
   "metadata": {},
   "source": [
    "## Transfer Learning"
   ]
  },
  {
   "cell_type": "code",
   "execution_count": 48,
   "id": "c541d585",
   "metadata": {},
   "outputs": [],
   "source": [
    "# load the HSC data\n",
    "\n",
    "batch_size_tl = 32 # batch size, real DeepShadows uses 32 for retraining\n",
    "\n",
    "# load the full HSC datasets since there's not that many\n",
    "# examples\n",
    "X_tr_hsc = np.float64(np.load('Data/X_HSC_train.npy'))[0,:] # training\n",
    "X_test_hsc = np.float64(np.load('Data/X_HSC_test.npy'))[0,:] # test\n",
    "# labels\n",
    "y_tr_hsc = np.int64(np.load('Data/y_HSC_train.npy'))[0,:] # training\n",
    "y_test_hsc = np.int64(np.load('Data/y_HSC_test.npy'))[0,:] # test\n",
    "\n",
    "# load the saved trained network\n",
    "net = keras.models.load_model('Trained_networks/DeepShadows_tf')"
   ]
  },
  {
   "cell_type": "code",
   "execution_count": 49,
   "id": "e1ab81a8",
   "metadata": {},
   "outputs": [
    {
     "name": "stdout",
     "output_type": "stream",
     "text": [
      "30/30 - 1s - loss: 0.7095 - accuracy: 0.7604 - 865ms/epoch - 29ms/step\n",
      "Test Accuracy: 0.7604166865348816\n"
     ]
    }
   ],
   "source": [
    "# evaluate the un-retrained network's accuracy on the test set\n",
    "test_loss_hsc, test_acc_hsc = net.evaluate(X_test_hsc, y_test_hsc, verbose=2)\n",
    "print('Test Accuracy: {}'.format(test_acc_hsc))"
   ]
  },
  {
   "cell_type": "code",
   "execution_count": 50,
   "id": "a5b51e44",
   "metadata": {},
   "outputs": [
    {
     "name": "stdout",
     "output_type": "stream",
     "text": [
      "True positives:   336\n",
      "True negatives:   394\n",
      "False positives:   86\n",
      "False negatives:  144\n"
     ]
    },
    {
     "data": {
      "image/png": "[encoded data removed]",
      "text/plain": [
       "<Figure size 432x432 with 2 Axes>"
      ]
     },
     "metadata": {
      "needs_background": "light"
     },
     "output_type": "display_data"
    }
   ],
   "source": [
    "# compute the confusion matrix for the test set\n",
    "y_prob_hsc = net.predict(X_test_hsc) # get predicted probabilities\n",
    "# and figure out which indices are over the threshold probability\n",
    "LSBG_idx_hsc = np.argwhere(y_prob_hsc > thres)\n",
    "\n",
    "# now make an array of the predicted classes based on the threshold\n",
    "y_pred_hsc = np.zeros_like(y_prob_hsc, dtype=int)\n",
    "y_pred_hsc[LSBG_idx_hsc] = 1\n",
    "\n",
    "# compute the confusion matrix\n",
    "conf_mat_HSC = confusion_matrix(y_test_hsc, y_pred_hsc) # rows are true, columns are predicted\n",
    "# and print out the entries nicely\n",
    "print(\"True positives:  {:4}\".format(conf_mat_HSC[1,1]))\n",
    "print(\"True negatives:  {:4}\".format(conf_mat_HSC[0,0]))\n",
    "print(\"False positives: {:4}\".format(conf_mat_HSC[0,1]))\n",
    "print(\"False negatives: {:4}\".format(conf_mat_HSC[1,0]))\n",
    "\n",
    "# plot the confusion matrix\n",
    "plot_cm(conf_mat_HSC)"
   ]
  },
  {
   "cell_type": "code",
   "execution_count": 51,
   "id": "0dc71bc8",
   "metadata": {
    "scrolled": true
   },
   "outputs": [
    {
     "name": "stdout",
     "output_type": "stream",
     "text": [
      "Epoch 1/30\n",
      "10/10 [==============================] - 1s 94ms/step - loss: 0.5406 - accuracy: 0.8000\n",
      "Epoch 2/30\n",
      "10/10 [==============================] - 1s 94ms/step - loss: 0.4702 - accuracy: 0.8219\n",
      "Epoch 3/30\n",
      "10/10 [==============================] - 1s 94ms/step - loss: 0.4538 - accuracy: 0.8281\n",
      "Epoch 4/30\n",
      "10/10 [==============================] - 1s 91ms/step - loss: 0.4432 - accuracy: 0.8344\n",
      "Epoch 5/30\n",
      "10/10 [==============================] - 1s 90ms/step - loss: 0.4088 - accuracy: 0.8438\n",
      "Epoch 6/30\n",
      "10/10 [==============================] - 1s 90ms/step - loss: 0.4060 - accuracy: 0.8438\n",
      "Epoch 7/30\n",
      "10/10 [==============================] - 1s 92ms/step - loss: 0.4164 - accuracy: 0.8313\n",
      "Epoch 8/30\n",
      "10/10 [==============================] - 1s 92ms/step - loss: 0.3912 - accuracy: 0.8531\n",
      "Epoch 9/30\n",
      "10/10 [==============================] - 1s 93ms/step - loss: 0.4088 - accuracy: 0.8438\n",
      "Epoch 10/30\n",
      "10/10 [==============================] - 1s 92ms/step - loss: 0.3776 - accuracy: 0.8656\n",
      "Epoch 11/30\n",
      "10/10 [==============================] - 1s 92ms/step - loss: 0.3912 - accuracy: 0.8656\n",
      "Epoch 12/30\n",
      "10/10 [==============================] - 1s 95ms/step - loss: 0.3802 - accuracy: 0.8594\n",
      "Epoch 13/30\n",
      "10/10 [==============================] - 1s 95ms/step - loss: 0.3679 - accuracy: 0.8500\n",
      "Epoch 14/30\n",
      "10/10 [==============================] - 1s 94ms/step - loss: 0.3711 - accuracy: 0.8531\n",
      "Epoch 15/30\n",
      "10/10 [==============================] - 1s 97ms/step - loss: 0.3627 - accuracy: 0.8562\n",
      "Epoch 16/30\n",
      "10/10 [==============================] - 1s 93ms/step - loss: 0.3580 - accuracy: 0.8687\n",
      "Epoch 17/30\n",
      "10/10 [==============================] - 1s 91ms/step - loss: 0.3434 - accuracy: 0.8781\n",
      "Epoch 18/30\n",
      "10/10 [==============================] - 1s 92ms/step - loss: 0.3415 - accuracy: 0.8687\n",
      "Epoch 19/30\n",
      "10/10 [==============================] - 1s 95ms/step - loss: 0.3478 - accuracy: 0.8656\n",
      "Epoch 20/30\n",
      "10/10 [==============================] - 1s 92ms/step - loss: 0.3350 - accuracy: 0.8719\n",
      "Epoch 21/30\n",
      "10/10 [==============================] - 1s 92ms/step - loss: 0.3411 - accuracy: 0.8781\n",
      "Epoch 22/30\n",
      "10/10 [==============================] - 1s 95ms/step - loss: 0.3138 - accuracy: 0.8875\n",
      "Epoch 23/30\n",
      "10/10 [==============================] - 1s 98ms/step - loss: 0.3463 - accuracy: 0.8719\n",
      "Epoch 24/30\n",
      "10/10 [==============================] - 1s 90ms/step - loss: 0.3334 - accuracy: 0.8750\n",
      "Epoch 25/30\n",
      "10/10 [==============================] - 1s 105ms/step - loss: 0.3428 - accuracy: 0.8687\n",
      "Epoch 26/30\n",
      "10/10 [==============================] - 1s 92ms/step - loss: 0.3340 - accuracy: 0.8719\n",
      "Epoch 27/30\n",
      "10/10 [==============================] - 1s 99ms/step - loss: 0.3270 - accuracy: 0.8656\n",
      "Epoch 28/30\n",
      "10/10 [==============================] - 1s 105ms/step - loss: 0.3359 - accuracy: 0.8781\n",
      "Epoch 29/30\n",
      "10/10 [==============================] - 1s 101ms/step - loss: 0.3271 - accuracy: 0.8875\n",
      "Epoch 30/30\n",
      "10/10 [==============================] - 1s 94ms/step - loss: 0.3320 - accuracy: 0.8813\n"
     ]
    },
    {
     "data": {
      "text/plain": [
       "<keras.callbacks.History at 0x7fb0dd8707c0>"
      ]
     },
     "execution_count": 51,
     "metadata": {},
     "output_type": "execute_result"
    }
   ],
   "source": [
    "# now, recompile and train the model with a much smaller learning rate (transfer learning)\n",
    "n_epochs_tl = 30 # number of transfer learning epochs\n",
    "\n",
    "# recompile\n",
    "net.compile(optimizer=optimizers.Adadelta(0.005), loss='binary_crossentropy', metrics=['accuracy'])\n",
    "\n",
    "# and train. We won't save checkpoints this time since this step goes quite quickly\n",
    "net.fit(x=X_tr_hsc, y=y_tr_hsc, epochs=n_epochs_tl, batch_size=batch_size_tl, shuffle=True)"
   ]
  },
  {
   "cell_type": "code",
   "execution_count": 52,
   "id": "ad515411",
   "metadata": {},
   "outputs": [
    {
     "data": {
      "image/png": "[encoded data removed]",
      "text/plain": [
       "<Figure size 576x432 with 1 Axes>"
      ]
     },
     "metadata": {
      "needs_background": "light"
     },
     "output_type": "display_data"
    }
   ],
   "source": [
    "# plot the results\n",
    "t = np.arange(n_epochs_tl) # array for epoch number\n",
    "\n",
    "# get performance metrics\n",
    "performance_data = net.history.history\n",
    "\n",
    "tr_acc = performance_data['accuracy']\n",
    "tr_loss = performance_data['loss']\n",
    "\n",
    "# and plot everything up\n",
    "fig, ax = plt.subplots(figsize=(8,6))\n",
    "ax.plot(t, tr_acc, c='r', label='Train Accuracy')\n",
    "ax.plot(t, tr_loss, c='b', label='Train Loss')\n",
    "\n",
    "ax.set(title='Fine-tuning', xlabel='Epoch', ylabel='Accuracy / Loss', ylim=(0,1))\n",
    "\n",
    "ax.legend()\n",
    "plt.show()"
   ]
  },
  {
   "cell_type": "code",
   "execution_count": 53,
   "id": "a92ac42d",
   "metadata": {},
   "outputs": [
    {
     "name": "stdout",
     "output_type": "stream",
     "text": [
      "INFO:tensorflow:Assets written to: Trained_networks/DeepShadows_tf_HSC/assets\n"
     ]
    }
   ],
   "source": [
    "# save the retuned network\n",
    "net.save('Trained_networks/DeepShadows_tf_HSC')"
   ]
  },
  {
   "cell_type": "code",
   "execution_count": 54,
   "id": "d7454feb",
   "metadata": {},
   "outputs": [
    {
     "name": "stdout",
     "output_type": "stream",
     "text": [
      "30/30 - 1s - loss: 0.4030 - accuracy: 0.8531 - 892ms/epoch - 30ms/step\n",
      "Test Accuracy: 0.8531249761581421\n"
     ]
    }
   ],
   "source": [
    "# evaluate the retrained network's accuracy on the test set\n",
    "test_loss_HSC_tuned, test_acc_HSC_tuned = net.evaluate(X_test_hsc, y_test_hsc, verbose=2)\n",
    "print('Test Accuracy: {}'.format(test_acc_HSC_tuned))"
   ]
  },
  {
   "cell_type": "code",
   "execution_count": 55,
   "id": "aded9f87",
   "metadata": {},
   "outputs": [
    {
     "name": "stdout",
     "output_type": "stream",
     "text": [
      "True positives:   433\n",
      "True negatives:   386\n",
      "False positives:   94\n",
      "False negatives:   47\n"
     ]
    },
    {
     "data": {
      "image/png": "[encoded data removed]",
      "text/plain": [
       "<Figure size 432x432 with 2 Axes>"
      ]
     },
     "metadata": {
      "needs_background": "light"
     },
     "output_type": "display_data"
    }
   ],
   "source": [
    "# compute the confusion matrix for the test set\n",
    "y_prob_hsc_tuned = net.predict(X_test_hsc) # get predicted probabilities\n",
    "# and figure out which indices are over the threshold probability\n",
    "LSBG_idx_hsc_tuned = np.argwhere(y_prob_hsc_tuned > thres)\n",
    "\n",
    "# now make an array of the predicted classes based on the threshold\n",
    "y_pred_hsc_tuned = np.zeros_like(y_prob_hsc_tuned, dtype=int)\n",
    "y_pred_hsc_tuned[LSBG_idx_hsc_tuned] = 1\n",
    "\n",
    "# compute the confusion matrix\n",
    "conf_mat_HSC_tuned = confusion_matrix(y_test_hsc, y_pred_hsc_tuned) # rows are true, columns are predicted\n",
    "# and print out the entries nicely\n",
    "print(\"True positives:  {:4}\".format(conf_mat_HSC_tuned[1,1]))\n",
    "print(\"True negatives:  {:4}\".format(conf_mat_HSC_tuned[0,0]))\n",
    "print(\"False positives: {:4}\".format(conf_mat_HSC_tuned[0,1]))\n",
    "print(\"False negatives: {:4}\".format(conf_mat_HSC_tuned[1,0]))\n",
    "\n",
    "# plot the confusion matrix\n",
    "plot_cm(conf_mat_HSC_tuned)"
   ]
  },
  {
   "cell_type": "code",
   "execution_count": null,
   "id": "6859d5a1",
   "metadata": {},
   "outputs": [],
   "source": []
  },
  {
   "cell_type": "code",
   "execution_count": null,
   "id": "c51b19fe",
   "metadata": {},
   "outputs": [],
   "source": []
  },
  {
   "cell_type": "code",
   "execution_count": null,
   "id": "f6871743",
   "metadata": {},
   "outputs": [],
   "source": []
  }
 ],
 "metadata": {
  "kernelspec": {
   "display_name": "Python 3",
   "language": "python",
   "name": "python3"
  },
  "language_info": {
   "codemirror_mode": {
    "name": "ipython",
    "version": 3
   },
   "file_extension": ".py",
   "mimetype": "text/x-python",
   "name": "python",
   "nbconvert_exporter": "python",
   "pygments_lexer": "ipython3",
   "version": "3.8.8"
  }
 },
 "nbformat": 4,
 "nbformat_minor": 5
}
