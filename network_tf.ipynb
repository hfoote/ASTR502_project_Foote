{
 "cells": [
  {
   "cell_type": "markdown",
   "id": "a5bd82ed",
   "metadata": {},
   "source": [
    "This notebook loads the data and picks out random subsets if a smaller dataset is desired. Then it trains and tests my implementation of the DeepShadows CNN with DES images, before performing a transfer learning test on HSC images. This code is heavily based on the DeepShadows.ipynb notebook in the repository: https://github.com/dtanoglidis/DeepShadows"
   ]
  },
  {
   "cell_type": "code",
   "execution_count": 11,
   "id": "247854f8",
   "metadata": {},
   "outputs": [],
   "source": [
    "# imports\n",
    "import tensorflow as tf\n",
    "from tensorflow import keras \n",
    "from tensorflow.keras import regularizers\n",
    "from tensorflow.keras import optimizers\n",
    "from keras import layers as lyr\n",
    "import numpy as np\n",
    "import matplotlib\n",
    "import matplotlib.pyplot as plt\n",
    "from sklearn.metrics import confusion_matrix\n",
    "matplotlib.rcParams.update({'font.size': 15}) \n",
    "%matplotlib inline"
   ]
  },
  {
   "cell_type": "markdown",
   "id": "1b0c320c",
   "metadata": {},
   "source": [
    "## Training"
   ]
  },
  {
   "cell_type": "code",
   "execution_count": 10,
   "id": "9ff35240",
   "metadata": {},
   "outputs": [
    {
     "name": "stdout",
     "output_type": "stream",
     "text": [
      "30000 4990 4990\n"
     ]
    }
   ],
   "source": [
    "# load the data\n",
    "\n",
    "np.random.seed(788739854) # set a seed to pick out consistent subsets of the full dataset when re-running\n",
    "\n",
    "batch_size = 64 # batch size, real DeepShadows uses 64\n",
    "\n",
    "# load the full datasets\n",
    "# examples\n",
    "X_tr = np.float64(np.load('Data/X_train.npy'))[0,:] # training\n",
    "X_val = np.float64(np.load('Data/X_val.npy'))[0,:] # validation\n",
    "X_test = np.float64(np.load('Data/X_test.npy'))[0,:] # test\n",
    "# labels\n",
    "y_tr = np.int64(np.load('Data/y_train.npy'))[0,:] # training\n",
    "y_val = np.int64(np.load('Data/y_val.npy'))[0,:] # validation\n",
    "y_test = np.int64(np.load('Data/y_test.npy'))[0,:] # test\n",
    "\n",
    "# if we want to use a subset of the data rather than the whole thing, pick out the subset randomly\n",
    "# [train, validation, test] list with the desired number of batches in each set\n",
    "num_batches = np.array([468, 77, 77]) # full dataset\n",
    "\n",
    "# draw random samples of indices for each set of the desired lengths\n",
    "tr_idx = np.random.choice(np.arange(len(y_tr)), size=num_batches[0]*batch_size, replace=False)\n",
    "val_idx = np.random.choice(np.arange(len(y_val)), size=num_batches[1]*batch_size, replace=False)\n",
    "test_idx = np.random.choice(np.arange(len(y_test)), size=num_batches[2]*batch_size, replace=False)\n",
    "\n",
    "# then pick these out\n",
    "X_tr = X_tr[tr_idx]\n",
    "y_tr = y_tr[tr_idx]\n",
    "\n",
    "X_val = X_val[val_idx]\n",
    "y_val = y_val[val_idx]\n",
    "\n",
    "X_test = X_test[test_idx]\n",
    "y_test = y_test[test_idx]"
   ]
  },
  {
   "cell_type": "code",
   "execution_count": 4,
   "id": "baf000cf",
   "metadata": {},
   "outputs": [],
   "source": [
    "# Define the DeepShadows CNN\n",
    "def DeepShadows():\n",
    "    # architecture\n",
    "    net = keras.models.Sequential([\n",
    "        # input layer is the same shape as an image, with the channels last\n",
    "        lyr.InputLayer((64,64,3)),\n",
    "        # Each of the first three blocks contains a convolutional layer with relu activation and weight decay\n",
    "        lyr.Conv2D(filters=16, kernel_size=3, padding='same', activation='relu', kernel_regularizer=regularizers.l2(0.13)),\n",
    "        # followed by batch normalization\n",
    "        lyr.BatchNormalization(),\n",
    "        # and max pooling\n",
    "        lyr.MaxPool2D(pool_size=2, strides=None, padding='valid'),\n",
    "        # finally, apply dropout\n",
    "        lyr.Dropout(rate=0.4),\n",
    "        # repeat this block twice more, while doubling the number of channels each time\n",
    "        lyr.Conv2D(filters=32, kernel_size=3, padding='same', activation='relu', kernel_regularizer=regularizers.l2(0.13)),\n",
    "        lyr.BatchNormalization(),\n",
    "        lyr.MaxPool2D(pool_size=2, strides=None, padding='valid'),\n",
    "        lyr.Dropout(rate=0.4),\n",
    "        # last block, double channels again\n",
    "        lyr.Conv2D(filters=64, kernel_size=3, padding='same', activation='relu', kernel_regularizer=regularizers.l2(0.13)),\n",
    "        lyr.BatchNormalization(),\n",
    "        lyr.MaxPool2D(pool_size=2, strides=None, padding='valid'),\n",
    "        lyr.Dropout(rate=0.4),\n",
    "        # flatten the output so it can be put into the dense layers\n",
    "        lyr.Flatten(),\n",
    "        # fully connected layers\n",
    "        lyr.Dense(units=1024, activation='relu',kernel_regularizer=regularizers.l2(0.12)), # lower the weight decay parameter a bit\n",
    "        # last layer uses sigmoid activation to output a single probability that the image contains a LSBG\n",
    "        lyr.Dense(units=1, activation='sigmoid')\n",
    "    ])\n",
    "    \n",
    "    # compile the network for training. \n",
    "    # DeepShadows uses Adadelta with a base learning rate of 0.1,\n",
    "    # cross-entropy loss, \n",
    "    # and we want the network to be evaluated by its accuracy\n",
    "    net.compile(optimizer=optimizers.Adadelta(0.1), loss='binary_crossentropy', metrics=['accuracy'])\n",
    "    \n",
    "    return net"
   ]
  },
  {
   "cell_type": "code",
   "execution_count": 5,
   "id": "8699edd7",
   "metadata": {
    "scrolled": true
   },
   "outputs": [
    {
     "name": "stdout",
     "output_type": "stream",
     "text": [
      "Epoch 1/100\n",
      "468/468 [==============================] - 67s 142ms/step - loss: 57.8259 - accuracy: 0.8187 - val_loss: 6.9975 - val_accuracy: 0.5635\n",
      "Epoch 2/100\n",
      "171/468 [=========>....................] - ETA: 40s - loss: 4.2187 - accuracy: 0.8700\n",
      "Epoch 2: saving model to training_checkpoints/checkpoint\n",
      "468/468 [==============================] - 68s 144ms/step - loss: 2.5275 - accuracy: 0.8761 - val_loss: 1.0311 - val_accuracy: 0.8823\n",
      "Epoch 3/100\n",
      "343/468 [====================>.........] - ETA: 17s - loss: 0.7378 - accuracy: 0.8902\n",
      "Epoch 3: saving model to training_checkpoints/checkpoint\n",
      "468/468 [==============================] - 67s 144ms/step - loss: 0.6900 - accuracy: 0.8926 - val_loss: 0.5653 - val_accuracy: 0.8748\n",
      "Epoch 4/100\n",
      "468/468 [==============================] - 67s 144ms/step - loss: 0.4687 - accuracy: 0.8998 - val_loss: 0.4479 - val_accuracy: 0.8898\n",
      "Epoch 5/100\n",
      " 47/468 [==>...........................] - ETA: 57s - loss: 0.4128 - accuracy: 0.9066\n",
      "Epoch 5: saving model to training_checkpoints/checkpoint\n",
      "468/468 [==============================] - 68s 146ms/step - loss: 0.3960 - accuracy: 0.9045 - val_loss: 0.3566 - val_accuracy: 0.9138\n",
      "Epoch 6/100\n",
      "219/468 [=============>................] - ETA: 34s - loss: 0.3619 - accuracy: 0.9092\n",
      "Epoch 6: saving model to training_checkpoints/checkpoint\n",
      "468/468 [==============================] - 69s 147ms/step - loss: 0.3587 - accuracy: 0.9069 - val_loss: 0.3554 - val_accuracy: 0.8987\n",
      "Epoch 7/100\n",
      "391/468 [========================>.....] - ETA: 10s - loss: 0.3423 - accuracy: 0.9069\n",
      "Epoch 7: saving model to training_checkpoints/checkpoint\n",
      "468/468 [==============================] - 69s 148ms/step - loss: 0.3402 - accuracy: 0.9074 - val_loss: 0.3290 - val_accuracy: 0.9024\n",
      "Epoch 8/100\n",
      "468/468 [==============================] - 68s 144ms/step - loss: 0.3253 - accuracy: 0.9105 - val_loss: 0.3013 - val_accuracy: 0.9138\n",
      "Epoch 9/100\n",
      " 95/468 [=====>........................] - ETA: 51s - loss: 0.3282 - accuracy: 0.9041\n",
      "Epoch 9: saving model to training_checkpoints/checkpoint\n",
      "468/468 [==============================] - 68s 145ms/step - loss: 0.3178 - accuracy: 0.9088 - val_loss: 0.3152 - val_accuracy: 0.9058\n",
      "Epoch 10/100\n",
      "267/468 [================>.............] - ETA: 28s - loss: 0.3083 - accuracy: 0.9079\n",
      "Epoch 10: saving model to training_checkpoints/checkpoint\n",
      "468/468 [==============================] - 69s 147ms/step - loss: 0.3089 - accuracy: 0.9093 - val_loss: 0.3119 - val_accuracy: 0.9054\n",
      "Epoch 11/100\n",
      "439/468 [===========================>..] - ETA: 4s - loss: 0.3046 - accuracy: 0.9082\n",
      "Epoch 11: saving model to training_checkpoints/checkpoint\n",
      "468/468 [==============================] - 68s 145ms/step - loss: 0.3040 - accuracy: 0.9086 - val_loss: 0.2780 - val_accuracy: 0.9164\n",
      "Epoch 12/100\n",
      "468/468 [==============================] - 68s 145ms/step - loss: 0.2983 - accuracy: 0.9104 - val_loss: 0.2836 - val_accuracy: 0.9134\n",
      "Epoch 13/100\n",
      "143/468 [========>.....................] - ETA: 47s - loss: 0.2975 - accuracy: 0.9088\n",
      "Epoch 13: saving model to training_checkpoints/checkpoint\n",
      "468/468 [==============================] - 71s 152ms/step - loss: 0.2969 - accuracy: 0.9083 - val_loss: 0.2772 - val_accuracy: 0.9192\n",
      "Epoch 14/100\n",
      "315/468 [===================>..........] - ETA: 21s - loss: 0.2901 - accuracy: 0.9126\n",
      "Epoch 14: saving model to training_checkpoints/checkpoint\n",
      "468/468 [==============================] - 69s 147ms/step - loss: 0.2922 - accuracy: 0.9114 - val_loss: 0.2733 - val_accuracy: 0.9176\n",
      "Epoch 15/100\n",
      "468/468 [==============================] - 70s 149ms/step - loss: 0.2907 - accuracy: 0.9102 - val_loss: 0.2696 - val_accuracy: 0.9152\n",
      "Epoch 16/100\n",
      " 19/468 [>.............................] - ETA: 1:04 - loss: 0.2921 - accuracy: 0.9071\n",
      "Epoch 16: saving model to training_checkpoints/checkpoint\n",
      "468/468 [==============================] - 69s 147ms/step - loss: 0.2874 - accuracy: 0.9104 - val_loss: 0.2776 - val_accuracy: 0.9117\n",
      "Epoch 17/100\n",
      "191/468 [===========>..................] - ETA: 38s - loss: 0.2881 - accuracy: 0.9124\n",
      "Epoch 17: saving model to training_checkpoints/checkpoint\n",
      "468/468 [==============================] - 69s 147ms/step - loss: 0.2864 - accuracy: 0.9116 - val_loss: 0.2667 - val_accuracy: 0.9168\n",
      "Epoch 18/100\n",
      "363/468 [======================>.......] - ETA: 14s - loss: 0.2846 - accuracy: 0.9109\n",
      "Epoch 18: saving model to training_checkpoints/checkpoint\n",
      "468/468 [==============================] - 68s 145ms/step - loss: 0.2852 - accuracy: 0.9104 - val_loss: 0.2730 - val_accuracy: 0.9109\n",
      "Epoch 19/100\n",
      "468/468 [==============================] - 67s 144ms/step - loss: 0.2810 - accuracy: 0.9132 - val_loss: 0.2716 - val_accuracy: 0.9127\n",
      "Epoch 20/100\n",
      " 67/468 [===>..........................] - ETA: 53s - loss: 0.2805 - accuracy: 0.9121\n",
      "Epoch 20: saving model to training_checkpoints/checkpoint\n",
      "468/468 [==============================] - 66s 141ms/step - loss: 0.2811 - accuracy: 0.9125 - val_loss: 0.2598 - val_accuracy: 0.9190\n",
      "Epoch 21/100\n",
      "239/468 [==============>...............] - ETA: 31s - loss: 0.2779 - accuracy: 0.9127\n",
      "Epoch 21: saving model to training_checkpoints/checkpoint\n",
      "468/468 [==============================] - 67s 143ms/step - loss: 0.2796 - accuracy: 0.9112 - val_loss: 0.2839 - val_accuracy: 0.9056\n",
      "Epoch 22/100\n",
      "411/468 [=========================>....] - ETA: 7s - loss: 0.2768 - accuracy: 0.9126\n",
      "Epoch 22: saving model to training_checkpoints/checkpoint\n",
      "468/468 [==============================] - 67s 143ms/step - loss: 0.2767 - accuracy: 0.9125 - val_loss: 0.2576 - val_accuracy: 0.9241\n",
      "Epoch 23/100\n",
      "468/468 [==============================] - 67s 142ms/step - loss: 0.2777 - accuracy: 0.9133 - val_loss: 0.2627 - val_accuracy: 0.9144\n",
      "Epoch 24/100\n",
      "115/468 [======>.......................] - ETA: 48s - loss: 0.2771 - accuracy: 0.9126\n",
      "Epoch 24: saving model to training_checkpoints/checkpoint\n",
      "468/468 [==============================] - 67s 143ms/step - loss: 0.2741 - accuracy: 0.9149 - val_loss: 0.2621 - val_accuracy: 0.9142\n",
      "Epoch 25/100\n",
      "287/468 [=================>............] - ETA: 24s - loss: 0.2760 - accuracy: 0.9112\n",
      "Epoch 25: saving model to training_checkpoints/checkpoint\n",
      "468/468 [==============================] - 66s 141ms/step - loss: 0.2743 - accuracy: 0.9124 - val_loss: 0.2591 - val_accuracy: 0.9164\n",
      "Epoch 26/100\n",
      "459/468 [============================>.] - ETA: 1s - loss: 0.2737 - accuracy: 0.9129\n",
      "Epoch 26: saving model to training_checkpoints/checkpoint\n",
      "468/468 [==============================] - 67s 143ms/step - loss: 0.2736 - accuracy: 0.9129 - val_loss: 0.2594 - val_accuracy: 0.9231\n",
      "Epoch 27/100\n",
      "468/468 [==============================] - 66s 141ms/step - loss: 0.2739 - accuracy: 0.9130 - val_loss: 0.2545 - val_accuracy: 0.9225\n",
      "Epoch 28/100\n",
      "163/468 [=========>....................] - ETA: 41s - loss: 0.2690 - accuracy: 0.9137\n",
      "Epoch 28: saving model to training_checkpoints/checkpoint\n",
      "468/468 [==============================] - 68s 145ms/step - loss: 0.2721 - accuracy: 0.9130 - val_loss: 0.2506 - val_accuracy: 0.9178\n",
      "Epoch 29/100\n",
      "335/468 [====================>.........] - ETA: 18s - loss: 0.2718 - accuracy: 0.9135\n",
      "Epoch 29: saving model to training_checkpoints/checkpoint\n",
      "468/468 [==============================] - 67s 144ms/step - loss: 0.2722 - accuracy: 0.9130 - val_loss: 0.2489 - val_accuracy: 0.9164\n",
      "Epoch 30/100\n",
      "468/468 [==============================] - 67s 143ms/step - loss: 0.2696 - accuracy: 0.9136 - val_loss: 0.2958 - val_accuracy: 0.9044\n",
      "Epoch 31/100\n",
      " 39/468 [=>............................] - ETA: 59s - loss: 0.2666 - accuracy: 0.9187\n",
      "Epoch 31: saving model to training_checkpoints/checkpoint\n",
      "468/468 [==============================] - 67s 143ms/step - loss: 0.2702 - accuracy: 0.9145 - val_loss: 0.2670 - val_accuracy: 0.9121\n",
      "Epoch 32/100\n",
      "211/468 [============>.................] - ETA: 34s - loss: 0.2661 - accuracy: 0.9169\n",
      "Epoch 32: saving model to training_checkpoints/checkpoint\n",
      "468/468 [==============================] - 67s 143ms/step - loss: 0.2695 - accuracy: 0.9148 - val_loss: 0.2704 - val_accuracy: 0.9134\n",
      "Epoch 33/100\n",
      "383/468 [=======================>......] - ETA: 11s - loss: 0.2690 - accuracy: 0.9112\n",
      "Epoch 33: saving model to training_checkpoints/checkpoint\n"
     ]
    },
    {
     "name": "stdout",
     "output_type": "stream",
     "text": [
      "468/468 [==============================] - 67s 142ms/step - loss: 0.2673 - accuracy: 0.9121 - val_loss: 0.2463 - val_accuracy: 0.9205\n",
      "Epoch 34/100\n",
      "468/468 [==============================] - 65s 140ms/step - loss: 0.2679 - accuracy: 0.9138 - val_loss: 0.2529 - val_accuracy: 0.9217\n",
      "Epoch 35/100\n",
      " 87/468 [====>.........................] - ETA: 51s - loss: 0.2663 - accuracy: 0.9168\n",
      "Epoch 35: saving model to training_checkpoints/checkpoint\n",
      "468/468 [==============================] - 66s 141ms/step - loss: 0.2679 - accuracy: 0.9142 - val_loss: 0.2462 - val_accuracy: 0.9194\n",
      "Epoch 36/100\n",
      "259/468 [===============>..............] - ETA: 28s - loss: 0.2673 - accuracy: 0.9124\n",
      "Epoch 36: saving model to training_checkpoints/checkpoint\n",
      "468/468 [==============================] - 66s 141ms/step - loss: 0.2673 - accuracy: 0.9129 - val_loss: 0.2715 - val_accuracy: 0.9138\n",
      "Epoch 37/100\n",
      "431/468 [==========================>...] - ETA: 5s - loss: 0.2688 - accuracy: 0.9134\n",
      "Epoch 37: saving model to training_checkpoints/checkpoint\n",
      "468/468 [==============================] - 68s 145ms/step - loss: 0.2683 - accuracy: 0.9137 - val_loss: 0.2455 - val_accuracy: 0.9209\n",
      "Epoch 38/100\n",
      "468/468 [==============================] - 67s 143ms/step - loss: 0.2665 - accuracy: 0.9128 - val_loss: 0.2805 - val_accuracy: 0.9028\n",
      "Epoch 39/100\n",
      "135/468 [=======>......................] - ETA: 45s - loss: 0.2636 - accuracy: 0.9175\n",
      "Epoch 39: saving model to training_checkpoints/checkpoint\n",
      "468/468 [==============================] - 67s 142ms/step - loss: 0.2658 - accuracy: 0.9153 - val_loss: 0.2637 - val_accuracy: 0.9103\n",
      "Epoch 40/100\n",
      "307/468 [==================>...........] - ETA: 21s - loss: 0.2636 - accuracy: 0.9154\n",
      "Epoch 40: saving model to training_checkpoints/checkpoint\n",
      "468/468 [==============================] - 67s 142ms/step - loss: 0.2675 - accuracy: 0.9131 - val_loss: 0.2407 - val_accuracy: 0.9239\n",
      "Epoch 41/100\n",
      "468/468 [==============================] - 63s 135ms/step - loss: 0.2648 - accuracy: 0.9146 - val_loss: 0.2551 - val_accuracy: 0.9164\n",
      "Epoch 42/100\n",
      " 11/468 [..............................] - ETA: 59s - loss: 0.2446 - accuracy: 0.9276\n",
      "Epoch 42: saving model to training_checkpoints/checkpoint\n",
      "468/468 [==============================] - 64s 137ms/step - loss: 0.2636 - accuracy: 0.9154 - val_loss: 0.2485 - val_accuracy: 0.9219\n",
      "Epoch 43/100\n",
      "183/468 [==========>...................] - ETA: 37s - loss: 0.2531 - accuracy: 0.9205\n",
      "Epoch 43: saving model to training_checkpoints/checkpoint\n",
      "468/468 [==============================] - 64s 138ms/step - loss: 0.2634 - accuracy: 0.9137 - val_loss: 0.2472 - val_accuracy: 0.9209\n",
      "Epoch 44/100\n",
      "355/468 [=====================>........] - ETA: 14s - loss: 0.2648 - accuracy: 0.9141\n",
      "Epoch 44: saving model to training_checkpoints/checkpoint\n",
      "468/468 [==============================] - 65s 138ms/step - loss: 0.2639 - accuracy: 0.9142 - val_loss: 0.2541 - val_accuracy: 0.9160\n",
      "Epoch 45/100\n",
      "468/468 [==============================] - 65s 139ms/step - loss: 0.2643 - accuracy: 0.9142 - val_loss: 0.2574 - val_accuracy: 0.9146\n",
      "Epoch 46/100\n",
      " 59/468 [==>...........................] - ETA: 54s - loss: 0.2473 - accuracy: 0.9232\n",
      "Epoch 46: saving model to training_checkpoints/checkpoint\n",
      "468/468 [==============================] - 65s 140ms/step - loss: 0.2644 - accuracy: 0.9136 - val_loss: 0.2538 - val_accuracy: 0.9170\n",
      "Epoch 47/100\n",
      "231/468 [=============>................] - ETA: 31s - loss: 0.2612 - accuracy: 0.9165\n",
      "Epoch 47: saving model to training_checkpoints/checkpoint\n",
      "468/468 [==============================] - 68s 146ms/step - loss: 0.2612 - accuracy: 0.9159 - val_loss: 0.2411 - val_accuracy: 0.9184\n",
      "Epoch 48/100\n",
      "403/468 [========================>.....] - ETA: 8s - loss: 0.2639 - accuracy: 0.9147\n",
      "Epoch 48: saving model to training_checkpoints/checkpoint\n",
      "468/468 [==============================] - 67s 143ms/step - loss: 0.2626 - accuracy: 0.9152 - val_loss: 0.2373 - val_accuracy: 0.9211\n",
      "Epoch 49/100\n",
      "468/468 [==============================] - 66s 142ms/step - loss: 0.2621 - accuracy: 0.9141 - val_loss: 0.2361 - val_accuracy: 0.9253\n",
      "Epoch 50/100\n",
      "107/468 [=====>........................] - ETA: 48s - loss: 0.2614 - accuracy: 0.9153\n",
      "Epoch 50: saving model to training_checkpoints/checkpoint\n",
      "468/468 [==============================] - 66s 142ms/step - loss: 0.2604 - accuracy: 0.9144 - val_loss: 0.2627 - val_accuracy: 0.9113\n",
      "Epoch 51/100\n",
      "279/468 [================>.............] - ETA: 25s - loss: 0.2627 - accuracy: 0.9138\n",
      "Epoch 51: saving model to training_checkpoints/checkpoint\n",
      "468/468 [==============================] - 66s 140ms/step - loss: 0.2609 - accuracy: 0.9137 - val_loss: 0.2451 - val_accuracy: 0.9174\n",
      "Epoch 52/100\n",
      "451/468 [===========================>..] - ETA: 2s - loss: 0.2592 - accuracy: 0.9154\n",
      "Epoch 52: saving model to training_checkpoints/checkpoint\n",
      "468/468 [==============================] - 66s 141ms/step - loss: 0.2594 - accuracy: 0.9153 - val_loss: 0.2599 - val_accuracy: 0.9115\n",
      "Epoch 53/100\n",
      "468/468 [==============================] - 66s 140ms/step - loss: 0.2617 - accuracy: 0.9149 - val_loss: 0.2347 - val_accuracy: 0.9278\n",
      "Epoch 54/100\n",
      "155/468 [========>.....................] - ETA: 42s - loss: 0.2556 - accuracy: 0.9185\n",
      "Epoch 54: saving model to training_checkpoints/checkpoint\n",
      "468/468 [==============================] - 66s 140ms/step - loss: 0.2593 - accuracy: 0.9158 - val_loss: 0.2501 - val_accuracy: 0.9144\n",
      "Epoch 55/100\n",
      "327/468 [===================>..........] - ETA: 19s - loss: 0.2584 - accuracy: 0.9158\n",
      "Epoch 55: saving model to training_checkpoints/checkpoint\n",
      "468/468 [==============================] - 66s 142ms/step - loss: 0.2599 - accuracy: 0.9155 - val_loss: 0.2443 - val_accuracy: 0.9243\n",
      "Epoch 56/100\n",
      "468/468 [==============================] - 66s 142ms/step - loss: 0.2596 - accuracy: 0.9147 - val_loss: 0.2742 - val_accuracy: 0.9065\n",
      "Epoch 57/100\n",
      " 31/468 [>.............................] - ETA: 59s - loss: 0.2560 - accuracy: 0.9143 \n",
      "Epoch 57: saving model to training_checkpoints/checkpoint\n",
      "468/468 [==============================] - 179s 384ms/step - loss: 0.2592 - accuracy: 0.9141 - val_loss: 0.2684 - val_accuracy: 0.9136\n",
      "Epoch 58/100\n",
      "203/468 [============>.................] - ETA: 36s - loss: 0.2556 - accuracy: 0.9149\n",
      "Epoch 58: saving model to training_checkpoints/checkpoint\n",
      "468/468 [==============================] - 67s 143ms/step - loss: 0.2586 - accuracy: 0.9144 - val_loss: 0.2421 - val_accuracy: 0.9194\n",
      "Epoch 59/100\n",
      "375/468 [=======================>......] - ETA: 12s - loss: 0.2596 - accuracy: 0.9144\n",
      "Epoch 59: saving model to training_checkpoints/checkpoint\n",
      "468/468 [==============================] - 67s 143ms/step - loss: 0.2600 - accuracy: 0.9146 - val_loss: 0.2501 - val_accuracy: 0.9148\n",
      "Epoch 60/100\n",
      "468/468 [==============================] - 66s 142ms/step - loss: 0.2596 - accuracy: 0.9146 - val_loss: 0.2397 - val_accuracy: 0.9251\n",
      "Epoch 61/100\n",
      " 79/468 [====>.........................] - ETA: 54s - loss: 0.2522 - accuracy: 0.9161\n",
      "Epoch 61: saving model to training_checkpoints/checkpoint\n",
      "468/468 [==============================] - 68s 144ms/step - loss: 0.2572 - accuracy: 0.9168 - val_loss: 0.2454 - val_accuracy: 0.9156\n",
      "Epoch 62/100\n",
      "251/468 [===============>..............] - ETA: 29s - loss: 0.2565 - accuracy: 0.9153\n",
      "Epoch 62: saving model to training_checkpoints/checkpoint\n",
      "468/468 [==============================] - 67s 144ms/step - loss: 0.2583 - accuracy: 0.9150 - val_loss: 0.2577 - val_accuracy: 0.9134\n",
      "Epoch 63/100\n",
      "423/468 [==========================>...] - ETA: 6s - loss: 0.2563 - accuracy: 0.9148\n",
      "Epoch 63: saving model to training_checkpoints/checkpoint\n",
      "468/468 [==============================] - 68s 145ms/step - loss: 0.2564 - accuracy: 0.9152 - val_loss: 0.2378 - val_accuracy: 0.9243\n",
      "Epoch 64/100\n",
      "468/468 [==============================] - 67s 143ms/step - loss: 0.2590 - accuracy: 0.9141 - val_loss: 0.2465 - val_accuracy: 0.9174\n",
      "Epoch 65/100\n",
      "127/468 [=======>......................] - ETA: 46s - loss: 0.2542 - accuracy: 0.9172\n",
      "Epoch 65: saving model to training_checkpoints/checkpoint\n",
      "468/468 [==============================] - 67s 143ms/step - loss: 0.2587 - accuracy: 0.9161 - val_loss: 0.2447 - val_accuracy: 0.9188\n",
      "Epoch 66/100\n"
     ]
    },
    {
     "name": "stdout",
     "output_type": "stream",
     "text": [
      "299/468 [==================>...........] - ETA: 22s - loss: 0.2570 - accuracy: 0.9138\n",
      "Epoch 66: saving model to training_checkpoints/checkpoint\n",
      "468/468 [==============================] - 201s 430ms/step - loss: 0.2576 - accuracy: 0.9137 - val_loss: 0.2408 - val_accuracy: 0.9209\n",
      "Epoch 67/100\n",
      "468/468 [==============================] - 68s 146ms/step - loss: 0.2572 - accuracy: 0.9163 - val_loss: 0.2348 - val_accuracy: 0.9225\n",
      "Epoch 68/100\n",
      "  3/468 [..............................] - ETA: 1:06 - loss: 0.2517 - accuracy: 0.9167\n",
      "Epoch 68: saving model to training_checkpoints/checkpoint\n",
      "468/468 [==============================] - 69s 147ms/step - loss: 0.2575 - accuracy: 0.9165 - val_loss: 0.2329 - val_accuracy: 0.9239\n",
      "Epoch 69/100\n",
      "175/468 [==========>...................] - ETA: 41s - loss: 0.2571 - accuracy: 0.9134\n",
      "Epoch 69: saving model to training_checkpoints/checkpoint\n",
      "468/468 [==============================] - 68s 146ms/step - loss: 0.2574 - accuracy: 0.9139 - val_loss: 0.2303 - val_accuracy: 0.9237\n",
      "Epoch 70/100\n",
      "347/468 [=====================>........] - ETA: 16s - loss: 0.2553 - accuracy: 0.9164\n",
      "Epoch 70: saving model to training_checkpoints/checkpoint\n",
      "468/468 [==============================] - 68s 145ms/step - loss: 0.2564 - accuracy: 0.9161 - val_loss: 0.2345 - val_accuracy: 0.9213\n",
      "Epoch 71/100\n",
      "468/468 [==============================] - 67s 144ms/step - loss: 0.2563 - accuracy: 0.9145 - val_loss: 0.2700 - val_accuracy: 0.9105\n",
      "Epoch 72/100\n",
      " 51/468 [==>...........................] - ETA: 58s - loss: 0.2534 - accuracy: 0.9179\n",
      "Epoch 72: saving model to training_checkpoints/checkpoint\n",
      "468/468 [==============================] - 68s 146ms/step - loss: 0.2556 - accuracy: 0.9168 - val_loss: 0.2354 - val_accuracy: 0.9231\n",
      "Epoch 73/100\n",
      "223/468 [=============>................] - ETA: 33s - loss: 0.2531 - accuracy: 0.9185\n",
      "Epoch 73: saving model to training_checkpoints/checkpoint\n",
      "468/468 [==============================] - 68s 145ms/step - loss: 0.2566 - accuracy: 0.9152 - val_loss: 0.2397 - val_accuracy: 0.9198\n",
      "Epoch 74/100\n",
      "395/468 [========================>.....] - ETA: 10s - loss: 0.2557 - accuracy: 0.9159\n",
      "Epoch 74: saving model to training_checkpoints/checkpoint\n",
      "468/468 [==============================] - 68s 145ms/step - loss: 0.2560 - accuracy: 0.9154 - val_loss: 0.2422 - val_accuracy: 0.9213\n",
      "Epoch 75/100\n",
      "468/468 [==============================] - 67s 144ms/step - loss: 0.2572 - accuracy: 0.9138 - val_loss: 0.2449 - val_accuracy: 0.9176\n",
      "Epoch 76/100\n",
      " 99/468 [=====>........................] - ETA: 57s - loss: 0.2616 - accuracy: 0.9173\n",
      "Epoch 76: saving model to training_checkpoints/checkpoint\n",
      "468/468 [==============================] - 70s 149ms/step - loss: 0.2561 - accuracy: 0.9151 - val_loss: 0.2447 - val_accuracy: 0.9190\n",
      "Epoch 77/100\n",
      "271/468 [================>.............] - ETA: 27s - loss: 0.2574 - accuracy: 0.9142\n",
      "Epoch 77: saving model to training_checkpoints/checkpoint\n",
      "468/468 [==============================] - 69s 146ms/step - loss: 0.2555 - accuracy: 0.9151 - val_loss: 0.2745 - val_accuracy: 0.9062\n",
      "Epoch 78/100\n",
      "443/468 [===========================>..] - ETA: 3s - loss: 0.2542 - accuracy: 0.9167\n",
      "Epoch 78: saving model to training_checkpoints/checkpoint\n",
      "468/468 [==============================] - 68s 146ms/step - loss: 0.2540 - accuracy: 0.9166 - val_loss: 0.2393 - val_accuracy: 0.9209\n",
      "Epoch 79/100\n",
      "468/468 [==============================] - 69s 148ms/step - loss: 0.2547 - accuracy: 0.9166 - val_loss: 0.2579 - val_accuracy: 0.9095\n",
      "Epoch 80/100\n",
      "147/468 [========>.....................] - ETA: 44s - loss: 0.2554 - accuracy: 0.9146\n",
      "Epoch 80: saving model to training_checkpoints/checkpoint\n",
      "468/468 [==============================] - 68s 144ms/step - loss: 0.2560 - accuracy: 0.9133 - val_loss: 0.2469 - val_accuracy: 0.9186\n",
      "Epoch 81/100\n",
      "319/468 [===================>..........] - ETA: 20s - loss: 0.2540 - accuracy: 0.9152\n",
      "Epoch 81: saving model to training_checkpoints/checkpoint\n",
      "468/468 [==============================] - 68s 144ms/step - loss: 0.2548 - accuracy: 0.9156 - val_loss: 0.2369 - val_accuracy: 0.9209\n",
      "Epoch 82/100\n",
      "468/468 [==============================] - 67s 143ms/step - loss: 0.2545 - accuracy: 0.9155 - val_loss: 0.2287 - val_accuracy: 0.9231\n",
      "Epoch 83/100\n",
      " 23/468 [>.............................] - ETA: 1:02 - loss: 0.2768 - accuracy: 0.9049\n",
      "Epoch 83: saving model to training_checkpoints/checkpoint\n",
      "468/468 [==============================] - 67s 144ms/step - loss: 0.2564 - accuracy: 0.9149 - val_loss: 0.2344 - val_accuracy: 0.9249\n",
      "Epoch 84/100\n",
      "195/468 [===========>..................] - ETA: 37s - loss: 0.2524 - accuracy: 0.9164\n",
      "Epoch 84: saving model to training_checkpoints/checkpoint\n",
      "468/468 [==============================] - 67s 144ms/step - loss: 0.2541 - accuracy: 0.9154 - val_loss: 0.2298 - val_accuracy: 0.9235\n",
      "Epoch 85/100\n",
      "367/468 [======================>.......] - ETA: 13s - loss: 0.2567 - accuracy: 0.9146\n",
      "Epoch 85: saving model to training_checkpoints/checkpoint\n",
      "468/468 [==============================] - 67s 144ms/step - loss: 0.2554 - accuracy: 0.9147 - val_loss: 0.2398 - val_accuracy: 0.9239\n",
      "Epoch 86/100\n",
      "468/468 [==============================] - 67s 144ms/step - loss: 0.2545 - accuracy: 0.9163 - val_loss: 0.2367 - val_accuracy: 0.9215\n",
      "Epoch 87/100\n",
      " 71/468 [===>..........................] - ETA: 53s - loss: 0.2655 - accuracy: 0.9124\n",
      "Epoch 87: saving model to training_checkpoints/checkpoint\n",
      "468/468 [==============================] - 67s 144ms/step - loss: 0.2546 - accuracy: 0.9160 - val_loss: 0.2304 - val_accuracy: 0.9231\n",
      "Epoch 88/100\n",
      "243/468 [==============>...............] - ETA: 30s - loss: 0.2530 - accuracy: 0.9138\n",
      "Epoch 88: saving model to training_checkpoints/checkpoint\n",
      "468/468 [==============================] - 67s 144ms/step - loss: 0.2542 - accuracy: 0.9145 - val_loss: 0.2368 - val_accuracy: 0.9219\n",
      "Epoch 89/100\n",
      "415/468 [=========================>....] - ETA: 17s - loss: 0.2559 - accuracy: 0.9147\n",
      "Epoch 89: saving model to training_checkpoints/checkpoint\n",
      "468/468 [==============================] - 144s 309ms/step - loss: 0.2545 - accuracy: 0.9154 - val_loss: 0.2533 - val_accuracy: 0.9184\n",
      "Epoch 90/100\n",
      "468/468 [==============================] - 67s 144ms/step - loss: 0.2538 - accuracy: 0.9147 - val_loss: 0.2463 - val_accuracy: 0.9170\n",
      "Epoch 91/100\n",
      "119/468 [======>.......................] - ETA: 48s - loss: 0.2563 - accuracy: 0.9133\n",
      "Epoch 91: saving model to training_checkpoints/checkpoint\n",
      "468/468 [==============================] - 68s 145ms/step - loss: 0.2538 - accuracy: 0.9143 - val_loss: 0.2459 - val_accuracy: 0.9140\n",
      "Epoch 92/100\n",
      "291/468 [=================>............] - ETA: 24s - loss: 0.2482 - accuracy: 0.9185\n",
      "Epoch 92: saving model to training_checkpoints/checkpoint\n",
      "468/468 [==============================] - 68s 145ms/step - loss: 0.2509 - accuracy: 0.9177 - val_loss: 0.2307 - val_accuracy: 0.9217\n",
      "Epoch 93/100\n",
      "463/468 [============================>.] - ETA: 0s - loss: 0.2532 - accuracy: 0.9152\n",
      "Epoch 93: saving model to training_checkpoints/checkpoint\n",
      "468/468 [==============================] - 67s 144ms/step - loss: 0.2536 - accuracy: 0.9149 - val_loss: 0.2394 - val_accuracy: 0.9184\n",
      "Epoch 94/100\n",
      "468/468 [==============================] - 68s 145ms/step - loss: 0.2547 - accuracy: 0.9143 - val_loss: 0.2450 - val_accuracy: 0.9219\n",
      "Epoch 95/100\n",
      "167/468 [=========>....................] - ETA: 41s - loss: 0.2494 - accuracy: 0.9161\n",
      "Epoch 95: saving model to training_checkpoints/checkpoint\n",
      "468/468 [==============================] - 68s 145ms/step - loss: 0.2549 - accuracy: 0.9144 - val_loss: 0.2484 - val_accuracy: 0.9127\n",
      "Epoch 96/100\n",
      "339/468 [====================>.........] - ETA: 17s - loss: 0.2508 - accuracy: 0.9164\n",
      "Epoch 96: saving model to training_checkpoints/checkpoint\n",
      "468/468 [==============================] - 68s 144ms/step - loss: 0.2517 - accuracy: 0.9160 - val_loss: 0.2648 - val_accuracy: 0.9087\n",
      "Epoch 97/100\n",
      "468/468 [==============================] - 67s 143ms/step - loss: 0.2521 - accuracy: 0.9150 - val_loss: 0.2347 - val_accuracy: 0.9227\n",
      "Epoch 98/100\n",
      " 43/468 [=>............................] - ETA: 59s - loss: 0.2628 - accuracy: 0.9048\n",
      "Epoch 98: saving model to training_checkpoints/checkpoint\n"
     ]
    },
    {
     "name": "stdout",
     "output_type": "stream",
     "text": [
      "468/468 [==============================] - 67s 142ms/step - loss: 0.2518 - accuracy: 0.9162 - val_loss: 0.2378 - val_accuracy: 0.9207\n",
      "Epoch 99/100\n",
      "215/468 [============>.................] - ETA: 34s - loss: 0.2489 - accuracy: 0.9172\n",
      "Epoch 99: saving model to training_checkpoints/checkpoint\n",
      "468/468 [==============================] - 67s 144ms/step - loss: 0.2527 - accuracy: 0.9160 - val_loss: 0.2598 - val_accuracy: 0.9089\n",
      "Epoch 100/100\n",
      "387/468 [=======================>......] - ETA: 11s - loss: 0.2520 - accuracy: 0.9181\n",
      "Epoch 100: saving model to training_checkpoints/checkpoint\n",
      "468/468 [==============================] - 67s 144ms/step - loss: 0.2528 - accuracy: 0.9170 - val_loss: 0.2444 - val_accuracy: 0.9146\n"
     ]
    },
    {
     "data": {
      "text/plain": [
       "<keras.callbacks.History at 0x7fd43c0a81c0>"
      ]
     },
     "execution_count": 5,
     "metadata": {},
     "output_type": "execute_result"
    }
   ],
   "source": [
    "# training\n",
    "n_epochs = 100 # number of epochs\n",
    "\n",
    "# callback function to save a checkpoint every 10 epochs during training\n",
    "checkpt = keras.callbacks.ModelCheckpoint(filepath='training_checkpoints/checkpoint', verbose=1, \n",
    "                                          save_weights_only=True, save_freq=(10*num_batches[0]))\n",
    "\n",
    "# create and train the network\n",
    "net = DeepShadows()\n",
    "net.fit(x=X_tr, y=y_tr, epochs=n_epochs, batch_size=batch_size, shuffle=True, validation_data=(X_val,y_val), \n",
    "        callbacks=[checkpt])"
   ]
  },
  {
   "cell_type": "code",
   "execution_count": 6,
   "id": "cf18596f",
   "metadata": {},
   "outputs": [
    {
     "data": {
      "image/png": "[encoded data removed]",
      "text/plain": [
       "<Figure size 576x432 with 1 Axes>"
      ]
     },
     "metadata": {
      "needs_background": "light"
     },
     "output_type": "display_data"
    }
   ],
   "source": [
    "# plot the results\n",
    "t = np.arange(n_epochs) # array for epoch number\n",
    "\n",
    "# get performance metrics\n",
    "performance_data = net.history.history\n",
    "\n",
    "tr_acc = performance_data['accuracy']\n",
    "val_acc = performance_data['val_accuracy']\n",
    "tr_loss = performance_data['loss']\n",
    "val_loss = performance_data['val_loss']\n",
    "\n",
    "# and plot everything up\n",
    "fig, ax = plt.subplots(figsize=(8,6))\n",
    "ax.plot(t, tr_acc, c='r', label='Train Accuracy')\n",
    "ax.plot(t, val_acc, c='orange', linestyle='dashed', label='Validation Accuracy')\n",
    "ax.plot(t, tr_loss, c='b', label='Train Loss')\n",
    "ax.plot(t, val_loss, c='cyan', linestyle='dashed', label='Validation Loss')\n",
    "\n",
    "ax.set(xlabel='Epoch', ylabel='Accuracy / Loss', ylim=(0,1))\n",
    "\n",
    "ax.legend()\n",
    "plt.show()"
   ]
  },
  {
   "cell_type": "code",
   "execution_count": 7,
   "id": "022f61a4",
   "metadata": {},
   "outputs": [
    {
     "name": "stdout",
     "output_type": "stream",
     "text": [
      "INFO:tensorflow:Assets written to: Trained_networks/DeepShadows_tf/assets\n"
     ]
    }
   ],
   "source": [
    "# save the trained network\n",
    "net.save('Trained_networks/DeepShadows_tf')"
   ]
  },
  {
   "cell_type": "markdown",
   "id": "53c92b7d",
   "metadata": {},
   "source": [
    "## Testing"
   ]
  },
  {
   "cell_type": "code",
   "execution_count": 8,
   "id": "4596c688",
   "metadata": {},
   "outputs": [
    {
     "name": "stdout",
     "output_type": "stream",
     "text": [
      "154/154 - 4s - loss: 0.2582 - accuracy: 0.9095 - 4s/epoch - 24ms/step\n",
      "Test Accuracy: 0.9094967246055603\n"
     ]
    }
   ],
   "source": [
    "# evaluate the network's accuracy on the test set\n",
    "test_loss, test_acc = net.evaluate(X_test, y_test, verbose=2)\n",
    "print('Test Accuracy: {}'.format(test_acc))"
   ]
  },
  {
   "cell_type": "code",
   "execution_count": 26,
   "id": "65f18b69",
   "metadata": {},
   "outputs": [
    {
     "name": "stdout",
     "output_type": "stream",
     "text": [
      "True positives:  2389\n",
      "True negatives:  2092\n",
      "False positives:  374\n",
      "False negatives:   73\n"
     ]
    }
   ],
   "source": [
    "# compute the confusion matrix for the test set\n",
    "thres = 0.5 # threshold probability for a LSBG prediction\n",
    "\n",
    "y_prob = net.predict(X_test) # get predicted probabilities\n",
    "# and figure out which indices are over the threshold probability\n",
    "LSBG_idx = np.argwhere(y_prob > thres)\n",
    "\n",
    "# now make an array of the predicted classes based on the threshold\n",
    "y_pred = np.zeros_like(y_prob, dtype=int)\n",
    "y_pred[LSBG_idx] = 1\n",
    "\n",
    "# compute the confusion matrix\n",
    "conf_mat_DES = confusion_matrix(y_test, y_pred) # rows are true, columns are predicted\n",
    "# and print out the entries nicely\n",
    "print(\"True positives:  {:4}\".format(conf_mat_DES[1,1]))\n",
    "print(\"True negatives:  {:4}\".format(conf_mat_DES[0,0]))\n",
    "print(\"False positives: {:4}\".format(conf_mat_DES[0,1]))\n",
    "print(\"False negatives: {:4}\".format(conf_mat_DES[1,0]))"
   ]
  },
  {
   "cell_type": "markdown",
   "id": "235f3abb",
   "metadata": {},
   "source": [
    "## Transfer Learning"
   ]
  },
  {
   "cell_type": "code",
   "execution_count": 32,
   "id": "0a700039",
   "metadata": {},
   "outputs": [],
   "source": [
    "# load the HSC data\n",
    "\n",
    "batch_size_tl = 32 # batch size, real DeepShadows uses 32 for retraining\n",
    "\n",
    "# load the full HSC datasets since there's not that many\n",
    "# examples\n",
    "X_tr_hsc = np.float64(np.load('Data/X_HSC_train.npy'))[0,:] # training\n",
    "X_test_hsc = np.float64(np.load('Data/X_HSC_test.npy'))[0,:] # test\n",
    "# labels\n",
    "y_tr_hsc = np.int64(np.load('Data/y_HSC_train.npy'))[0,:] # training\n",
    "y_test_hsc = np.int64(np.load('Data/y_HSC_test.npy'))[0,:] # test\n",
    "\n",
    "# load the saved trained network\n",
    "net = keras.models.load_model('Trained_networks/DeepShadows_tf')"
   ]
  },
  {
   "cell_type": "code",
   "execution_count": 33,
   "id": "b3ac5eb8",
   "metadata": {},
   "outputs": [
    {
     "name": "stdout",
     "output_type": "stream",
     "text": [
      "30/30 - 1s - loss: 0.4975 - accuracy: 0.8146 - 865ms/epoch - 29ms/step\n",
      "Test Accuracy: 0.8145833611488342\n"
     ]
    }
   ],
   "source": [
    "# evaluate the un-retrained network's accuracy on the test set\n",
    "test_loss_hsc, test_acc_hsc = net.evaluate(X_test_hsc, y_test_hsc, verbose=2)\n",
    "print('Test Accuracy: {}'.format(test_acc_hsc))"
   ]
  },
  {
   "cell_type": "code",
   "execution_count": 34,
   "id": "262be80b",
   "metadata": {},
   "outputs": [
    {
     "name": "stdout",
     "output_type": "stream",
     "text": [
      "True positives:   396\n",
      "True negatives:   386\n",
      "False positives:   94\n",
      "False negatives:   84\n"
     ]
    }
   ],
   "source": [
    "# compute the confusion matrix for the test set\n",
    "y_prob_hsc = net.predict(X_test_hsc) # get predicted probabilities\n",
    "# and figure out which indices are over the threshold probability\n",
    "LSBG_idx_hsc = np.argwhere(y_prob_hsc > thres)\n",
    "\n",
    "# now make an array of the predicted classes based on the threshold\n",
    "y_pred_hsc = np.zeros_like(y_prob_hsc, dtype=int)\n",
    "y_pred_hsc[LSBG_idx_hsc] = 1\n",
    "\n",
    "# compute the confusion matrix\n",
    "conf_mat_HSC = confusion_matrix(y_test_hsc, y_pred_hsc) # rows are true, columns are predicted\n",
    "# and print out the entries nicely\n",
    "print(\"True positives:  {:4}\".format(conf_mat_HSC[1,1]))\n",
    "print(\"True negatives:  {:4}\".format(conf_mat_HSC[0,0]))\n",
    "print(\"False positives: {:4}\".format(conf_mat_HSC[0,1]))\n",
    "print(\"False negatives: {:4}\".format(conf_mat_HSC[1,0]))"
   ]
  },
  {
   "cell_type": "code",
   "execution_count": 40,
   "id": "56d1aef4",
   "metadata": {
    "scrolled": true
   },
   "outputs": [
    {
     "name": "stdout",
     "output_type": "stream",
     "text": [
      "Epoch 1/30\n",
      "10/10 [==============================] - 2s 107ms/step - loss: 0.3374 - accuracy: 0.8687\n",
      "Epoch 2/30\n",
      "10/10 [==============================] - 1s 90ms/step - loss: 0.3243 - accuracy: 0.8719\n",
      "Epoch 3/30\n",
      "10/10 [==============================] - 1s 94ms/step - loss: 0.3400 - accuracy: 0.8750\n",
      "Epoch 4/30\n",
      "10/10 [==============================] - 1s 89ms/step - loss: 0.3288 - accuracy: 0.8687\n",
      "Epoch 5/30\n",
      "10/10 [==============================] - 1s 89ms/step - loss: 0.3283 - accuracy: 0.8781\n",
      "Epoch 6/30\n",
      "10/10 [==============================] - 1s 86ms/step - loss: 0.3088 - accuracy: 0.8844\n",
      "Epoch 7/30\n",
      "10/10 [==============================] - 1s 86ms/step - loss: 0.3070 - accuracy: 0.9062\n",
      "Epoch 8/30\n",
      "10/10 [==============================] - 1s 90ms/step - loss: 0.3181 - accuracy: 0.8844\n",
      "Epoch 9/30\n",
      "10/10 [==============================] - 1s 88ms/step - loss: 0.3294 - accuracy: 0.8719\n",
      "Epoch 10/30\n",
      "10/10 [==============================] - 1s 92ms/step - loss: 0.3147 - accuracy: 0.8781\n",
      "Epoch 11/30\n",
      "10/10 [==============================] - 1s 92ms/step - loss: 0.3192 - accuracy: 0.8875\n",
      "Epoch 12/30\n",
      "10/10 [==============================] - 1s 92ms/step - loss: 0.3105 - accuracy: 0.8750\n",
      "Epoch 13/30\n",
      "10/10 [==============================] - 1s 95ms/step - loss: 0.3016 - accuracy: 0.8906\n",
      "Epoch 14/30\n",
      "10/10 [==============================] - 1s 94ms/step - loss: 0.3107 - accuracy: 0.8844\n",
      "Epoch 15/30\n",
      "10/10 [==============================] - 1s 95ms/step - loss: 0.3289 - accuracy: 0.8656\n",
      "Epoch 16/30\n",
      "10/10 [==============================] - 1s 94ms/step - loss: 0.3033 - accuracy: 0.8906\n",
      "Epoch 17/30\n",
      "10/10 [==============================] - 1s 91ms/step - loss: 0.3038 - accuracy: 0.8875\n",
      "Epoch 18/30\n",
      "10/10 [==============================] - 1s 92ms/step - loss: 0.3047 - accuracy: 0.8875\n",
      "Epoch 19/30\n",
      "10/10 [==============================] - 1s 91ms/step - loss: 0.2937 - accuracy: 0.8906\n",
      "Epoch 20/30\n",
      "10/10 [==============================] - 1s 93ms/step - loss: 0.3157 - accuracy: 0.8719\n",
      "Epoch 21/30\n",
      "10/10 [==============================] - 1s 91ms/step - loss: 0.3012 - accuracy: 0.8875\n",
      "Epoch 22/30\n",
      "10/10 [==============================] - 1s 91ms/step - loss: 0.2828 - accuracy: 0.9031\n",
      "Epoch 23/30\n",
      "10/10 [==============================] - 1s 92ms/step - loss: 0.3036 - accuracy: 0.8813\n",
      "Epoch 24/30\n",
      "10/10 [==============================] - 1s 92ms/step - loss: 0.2972 - accuracy: 0.8875\n",
      "Epoch 25/30\n",
      "10/10 [==============================] - 1s 93ms/step - loss: 0.2859 - accuracy: 0.8875\n",
      "Epoch 26/30\n",
      "10/10 [==============================] - 1s 91ms/step - loss: 0.2838 - accuracy: 0.8969\n",
      "Epoch 27/30\n",
      "10/10 [==============================] - 1s 91ms/step - loss: 0.2849 - accuracy: 0.8906\n",
      "Epoch 28/30\n",
      "10/10 [==============================] - 1s 90ms/step - loss: 0.2816 - accuracy: 0.8938\n",
      "Epoch 29/30\n",
      "10/10 [==============================] - 1s 90ms/step - loss: 0.2764 - accuracy: 0.8906\n",
      "Epoch 30/30\n",
      "10/10 [==============================] - 1s 94ms/step - loss: 0.2826 - accuracy: 0.9000\n"
     ]
    },
    {
     "data": {
      "text/plain": [
       "<keras.callbacks.History at 0x7fd2ef42fac0>"
      ]
     },
     "execution_count": 40,
     "metadata": {},
     "output_type": "execute_result"
    }
   ],
   "source": [
    "# now, recompile and train the model with a much smaller learning rate (transfer learning)\n",
    "n_epochs_tl = 30 # number of transfer learning epochs\n",
    "\n",
    "# recompile\n",
    "net.compile(optimizer=optimizers.Adadelta(0.005), loss='binary_crossentropy', metrics=['accuracy'])\n",
    "\n",
    "# and train. We won't save checkpoints this time since this step goes quite quickly\n",
    "net.fit(x=X_tr_hsc, y=y_tr_hsc, epochs=n_epochs_tl, batch_size=batch_size_tl, shuffle=True)"
   ]
  },
  {
   "cell_type": "code",
   "execution_count": 42,
   "id": "d3bea7db",
   "metadata": {},
   "outputs": [
    {
     "data": {
      "image/png": "[encoded data removed]",
      "text/plain": [
       "<Figure size 576x432 with 1 Axes>"
      ]
     },
     "metadata": {
      "needs_background": "light"
     },
     "output_type": "display_data"
    }
   ],
   "source": [
    "# plot the results\n",
    "t = np.arange(n_epochs_tl) # array for epoch number\n",
    "\n",
    "# get performance metrics\n",
    "performance_data = net.history.history\n",
    "\n",
    "tr_acc = performance_data['accuracy']\n",
    "tr_loss = performance_data['loss']\n",
    "\n",
    "# and plot everything up\n",
    "fig, ax = plt.subplots(figsize=(8,6))\n",
    "ax.plot(t, tr_acc, c='r', label='Train Accuracy')\n",
    "ax.plot(t, tr_loss, c='b', label='Train Loss')\n",
    "\n",
    "ax.set(title='Fine-tuning', xlabel='Epoch', ylabel='Accuracy / Loss', ylim=(0,1))\n",
    "\n",
    "ax.legend()\n",
    "plt.show()"
   ]
  },
  {
   "cell_type": "code",
   "execution_count": 43,
   "id": "0a60af8f",
   "metadata": {},
   "outputs": [
    {
     "name": "stdout",
     "output_type": "stream",
     "text": [
      "INFO:tensorflow:Assets written to: Trained_networks/DeepShadows_tf_HSC/assets\n"
     ]
    }
   ],
   "source": [
    "# save the retuned network\n",
    "net.save('Trained_networks/DeepShadows_tf_HSC')"
   ]
  },
  {
   "cell_type": "code",
   "execution_count": 44,
   "id": "65a391a4",
   "metadata": {},
   "outputs": [
    {
     "name": "stdout",
     "output_type": "stream",
     "text": [
      "30/30 - 1s - loss: 0.3941 - accuracy: 0.8552 - 830ms/epoch - 28ms/step\n",
      "Test Accuracy: 0.8552083373069763\n"
     ]
    }
   ],
   "source": [
    "# evaluate the retrained network's accuracy on the test set\n",
    "test_loss_HSC_tuned, test_acc_HSC_tuned = net.evaluate(X_test_hsc, y_test_hsc, verbose=2)\n",
    "print('Test Accuracy: {}'.format(test_acc_HSC_tuned))"
   ]
  },
  {
   "cell_type": "code",
   "execution_count": 47,
   "id": "8e71ce7d",
   "metadata": {},
   "outputs": [
    {
     "name": "stdout",
     "output_type": "stream",
     "text": [
      "True positives:   419\n",
      "True negatives:   402\n",
      "False positives:   78\n",
      "False negatives:   61\n"
     ]
    }
   ],
   "source": [
    "# compute the confusion matrix for the test set\n",
    "y_prob_hsc_tuned = net.predict(X_test_hsc) # get predicted probabilities\n",
    "# and figure out which indices are over the threshold probability\n",
    "LSBG_idx_hsc_tuned = np.argwhere(y_prob_hsc_tuned > thres)\n",
    "\n",
    "# now make an array of the predicted classes based on the threshold\n",
    "y_pred_hsc_tuned = np.zeros_like(y_prob_hsc_tuned, dtype=int)\n",
    "y_pred_hsc_tuned[LSBG_idx_hsc_tuned] = 1\n",
    "\n",
    "# compute the confusion matrix\n",
    "conf_mat_HSC_tuned = confusion_matrix(y_test_hsc, y_pred_hsc_tuned) # rows are true, columns are predicted\n",
    "# and print out the entries nicely\n",
    "print(\"True positives:  {:4}\".format(conf_mat_HSC_tuned[1,1]))\n",
    "print(\"True negatives:  {:4}\".format(conf_mat_HSC_tuned[0,0]))\n",
    "print(\"False positives: {:4}\".format(conf_mat_HSC_tuned[0,1]))\n",
    "print(\"False negatives: {:4}\".format(conf_mat_HSC_tuned[1,0]))"
   ]
  },
  {
   "cell_type": "code",
   "execution_count": null,
   "id": "1f46451f",
   "metadata": {},
   "outputs": [],
   "source": []
  }
 ],
 "metadata": {
  "kernelspec": {
   "display_name": "Python 3",
   "language": "python",
   "name": "python3"
  },
  "language_info": {
   "codemirror_mode": {
    "name": "ipython",
    "version": 3
   },
   "file_extension": ".py",
   "mimetype": "text/x-python",
   "name": "python",
   "nbconvert_exporter": "python",
   "pygments_lexer": "ipython3",
   "version": "3.8.8"
  }
 },
 "nbformat": 4,
 "nbformat_minor": 5
}
